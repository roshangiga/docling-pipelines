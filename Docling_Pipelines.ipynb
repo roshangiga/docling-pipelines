{
 "cells": [
  {
   "cell_type": "markdown",
   "metadata": {},
   "source": [
    "# Docling Pipelines: Enrichment + Contextual Chunking\n",
    "\n",
    "This notebook shows how to:\n",
    "- Run existing scripts in `scripts/` from a notebook.\n",
    "- Combine picture description + formula enrichment in a single pass and then perform contextual hybrid chunking.\n",
    "- Inspect outputs in `output/`.\n",
    "\n",
    "Inputs go in `source/`. Outputs are written to `output/`."
   ],
   "id": "4fc3d9ea33de9a63"
  },
  {
   "cell_type": "markdown",
   "metadata": {},
   "source": [
    "## 0) Environment setup"
   ],
   "id": "90421ae6a998fbc3"
  },
  {
   "cell_type": "code",
   "metadata": {
    "tags": [],
    "ExecuteTime": {
     "end_time": "2025-08-18T16:37:47.948199Z",
     "start_time": "2025-08-18T16:37:43.336910Z"
    }
   },
   "source": [
    "# Install deps if needed (safe to re-run)\n",
    "!pip install -q -r requirements.txt"
   ],
   "id": "ce3806c22ab26b41",
   "outputs": [
    {
     "name": "stderr",
     "output_type": "stream",
     "text": [
      "\n",
      "[notice] A new release of pip is available: 25.1.1 -> 25.2\n",
      "[notice] To update, run: python.exe -m pip install --upgrade pip\n"
     ]
    }
   ],
   "execution_count": 1
  },
  {
   "cell_type": "code",
   "execution_count": null,
   "metadata": {
    "tags": []
   },
   "outputs": [],
   "source": [
    "from pathlib import Path\n",
    "\n",
    "project_root = Path().resolve()\n",
    "src_dir = project_root / 'source'\n",
    "out_dir = project_root / 'output'\n",
    "out_dir.mkdir(parents=True, exist_ok=True)\n",
    "\n",
    "print('Project root:', project_root)\n",
    "print('Source dir:', src_dir)\n",
    "print('Output dir:', out_dir)\n",
    "print('Source files:', list(src_dir.glob('*')))"
   ],
   "id": "1a8878c0399c3689"
  },
  {
   "cell_type": "markdown",
   "metadata": {},
   "source": [
    "## 1) Run existing scripts from the notebook\n",
    "Place files in `source/` before running."
   ],
   "id": "242ff52b7438404b"
  },
  {
   "cell_type": "code",
   "execution_count": null,
   "metadata": {},
   "outputs": [],
   "source": [
    "# Contextual hybrid chunking (.md, .pdf, .docx, .html)\n",
    "%run scripts/contextual_hybrid_chunking.py"
   ],
   "id": "98d263b46cd35716"
  },
  {
   "cell_type": "code",
   "execution_count": null,
   "metadata": {},
   "outputs": [],
   "source": [
    "# PDF formula enrichment (.md and .html outputs)\n",
    "%run scripts/enrich_formula_understanding.py"
   ],
   "id": "ab39eeed992cfb92"
  },
  {
   "cell_type": "code",
   "execution_count": null,
   "metadata": {},
   "outputs": [],
   "source": [
    "# PDF picture description enrichment (.md output)\n",
    "%run scripts/enrich_picture_description.py"
   ],
   "id": "5b955f6ec20dfa11"
  },
  {
   "cell_type": "markdown",
   "metadata": {},
   "source": [
    "## 2) One-pass combination: picture description + formula enrichment + contextual chunking\n",
    "This cell shows how to perform both enrichments in the converter, then pass the resulting document to `HybridChunker` and write raw + contextualized chunks."
   ],
   "id": "3a0d8b50ab7b9f11"
  },
  {
   "cell_type": "code",
   "execution_count": null,
   "metadata": {},
   "outputs": [],
   "source": [
    "from datetime import datetime\n",
    "from docling.document_converter import DocumentConverter, PdfFormatOption\n",
    "from docling.datamodel.pipeline_options import PdfPipelineOptions\n",
    "from docling.datamodel.base_models import InputFormat\n",
    "from docling.chunking import HybridChunker\n",
    "\n",
    "# Find a PDF in source/\n",
    "pdf_path = next((p for p in src_dir.glob('*.pdf')), None)\n",
    "assert pdf_path is not None, 'Put a PDF into source/'\n",
    "\n",
    "# Enable both enrichments in the pipeline\n",
    "pipe = PdfPipelineOptions()\n",
    "pipe.do_picture_description = True\n",
    "pipe.do_formula_enrichment = True\n",
    "\n",
    "converter = DocumentConverter(\n",
    "    format_options={InputFormat.PDF: PdfFormatOption(pipeline_options=pipe)}\n",
    ")\n",
    "\n",
    "dl_doc = converter.convert(str(pdf_path)).document\n",
    "\n",
    "# Chunk and contextualize\n",
    "chunker = HybridChunker()\n",
    "chunks = list(chunker.chunk(dl_doc=dl_doc))\n",
    "\n",
    "ts = datetime.now().strftime('%Y%m%d_%H%M%S')\n",
    "base = f'{pdf_path.stem}__combo__{ts}'\n",
    "txt_path = out_dir / f'{base}.txt'\n",
    "jsonl_path = out_dir / f'{base}.jsonl'\n",
    "\n",
    "import json\n",
    "with txt_path.open('w', encoding='utf-8') as f_txt, jsonl_path.open('w', encoding='utf-8') as f_jsonl:\n",
    "    for i, ch in enumerate(chunks):\n",
    "        raw = ch.text or ''\n",
    "        enriched = chunker.contextualize(chunk=ch)\n",
    "        # Write TXT\n",
    "        f_txt.write(f'=== {i} ===\\n')\n",
    "        f_txt.write('-- raw --\\n')\n",
    "        f_txt.write(raw + '\\n')\n",
    "        f_txt.write('-- enriched --\\n')\n",
    "        f_txt.write(enriched + '\\n\\n')\n",
    "        # Write JSONL\n",
    "        f_jsonl.write(json.dumps({\n",
    "            'index': i,\n",
    "            'raw': raw,\n",
    "            'enriched': enriched,\n",
    "            'path': getattr(ch, 'path', None),\n",
    "            'id': getattr(ch, 'id', None),\n",
    "        }, ensure_ascii=False) + '\\n')\n",
    "\n",
    "print('Wrote:', txt_path)\n",
    "print('Wrote:', jsonl_path)"
   ],
   "id": "63ebdc68bab8a090"
  },
  {
   "cell_type": "markdown",
   "metadata": {},
   "source": [
    "## 3) Inspect outputs"
   ],
   "id": "23eea3e64864bd7e"
  },
  {
   "cell_type": "code",
   "execution_count": null,
   "metadata": {},
   "outputs": [],
   "source": [
    "# List output files\n",
    "for p in sorted(out_dir.glob('*')):\n",
    "    print(p.name)"
   ],
   "id": "6bbcea2cc7ee063c"
  },
  {
   "cell_type": "markdown",
   "metadata": {},
   "source": [
    "## 4) Notes on modalities\n",
    "- To chunk Markdown/Docx/HTML, place files in `source/` and re-run the contextual chunking cell.\n",
    "- Enrichment options apply to PDFs via `PdfPipelineOptions` (as shown in the combined cell)."
   ],
   "id": "d7d89617be1072f6"
  }
 ],
 "metadata": {
  "kernelspec": {
   "display_name": "Python 3",
   "language": "python",
   "name": "python3"
  },
  "language_info": {
   "codemirror_mode": {
    "name": "ipython",
    "version": 3
   },
   "file_extension": ".py",
   "mimetype": "text/x-python",
   "name": "python",
   "nbconvert_exporter": "python",
   "pygments_lexer": "ipython3",
   "version": "3"
  }
 },
 "nbformat": 4,
 "nbformat_minor": 5
}
