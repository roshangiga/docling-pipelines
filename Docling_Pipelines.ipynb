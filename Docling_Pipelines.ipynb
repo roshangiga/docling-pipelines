{
 "cells": [
  {
   "cell_type": "markdown",
   "metadata": {},
   "source": [
    "# Docling Pipelines: All use-cases + LLM Enrichment + Toggles\n",
    "\n",
    "This notebook lets you:\n",
    "- Run all scripts in `scripts/` (with short descriptions).\n",
    "- Toggle Formula Understanding and Picture Description before conversion.\n",
    "- Select LLM provider via env (gemini or gpt) and enrich chunks with structured outputs.\n",
    "\n",
    "Inputs go in `source/`. Outputs are written to `output/`."
   ],
   "id": "4fd2a6694ba3bbf6"
  },
  {
   "cell_type": "code",
   "metadata": {
    "ExecuteTime": {
     "end_time": "2025-08-19T15:45:40.594317Z",
     "start_time": "2025-08-19T15:45:29.885797Z"
    }
   },
   "source": [
    "# Install dependencies (safe to re-run)\n",
    "!pip install -q -r requirements.txt"
   ],
   "id": "708c4e28803ad107",
   "outputs": [
    {
     "name": "stderr",
     "output_type": "stream",
     "text": [
      "\n",
      "[notice] A new release of pip is available: 25.1.1 -> 25.2\n",
      "[notice] To update, run: python.exe -m pip install --upgrade pip\n"
     ]
    }
   ],
   "execution_count": 1
  },
  {
   "cell_type": "code",
   "metadata": {
    "ExecuteTime": {
     "end_time": "2025-08-20T11:32:25.509027Z",
     "start_time": "2025-08-20T11:32:25.492651Z"
    }
   },
   "source": "# Load environment and configure provider\nimport os\nfrom pathlib import Path\nfrom dotenv import load_dotenv\n\n# Ensure CUDA is visible\nos.environ['CUDA_VISIBLE_DEVICES'] = '0'\n\n# Load .env if present. You can copy env.example to .env and fill keys.\nif Path('.env').exists():\n    load_dotenv('.env')\nelse:\n    load_dotenv()  # load from environment only\n\n# Provider: 'gemini' or 'gpt' (from env PROVIDER)\nPROVIDER = os.getenv('PROVIDER', 'gemini').strip().lower()\nOPENAI_MODEL = os.getenv('OPENAI_MODEL', 'gpt-4o-mini')\nGEMINI_MODEL = os.getenv('GEMINI_MODEL', 'gemini-2.5-flash')\n\nprint('Provider:', PROVIDER)\nprint('OPENAI_MODEL:', OPENAI_MODEL)\nprint('GEMINI_MODEL:', GEMINI_MODEL)",
   "id": "71b4dd6db1a8fa4f",
   "outputs": [
    {
     "name": "stdout",
     "output_type": "stream",
     "text": [
      "Provider: gemini\n",
      "OPENAI_MODEL: gpt-4o-mini\n",
      "GEMINI_MODEL: gemini-2.5-flash\n"
     ]
    }
   ],
   "execution_count": 1
  },
  {
   "cell_type": "code",
   "metadata": {
    "ExecuteTime": {
     "end_time": "2025-08-20T11:32:25.557006Z",
     "start_time": "2025-08-20T11:32:25.550405Z"
    }
   },
   "source": [
    "# Paths\n",
    "project_root = Path().resolve()\n",
    "src_dir = project_root / 'source'\n",
    "out_dir = project_root / 'output'\n",
    "out_dir.mkdir(parents=True, exist_ok=True)\n",
    "print('Project root:', project_root)\n",
    "print('Source dir:', src_dir)\n",
    "print('Output dir:', out_dir)\n",
    "print('Source files:', list(src_dir.glob('*')))"
   ],
   "id": "e947cec027435afe",
   "outputs": [
    {
     "name": "stdout",
     "output_type": "stream",
     "text": [
      "Project root: D:\\GIT\\docling-pipelines\n",
      "Source dir: D:\\GIT\\docling-pipelines\\source\n",
      "Output dir: D:\\GIT\\docling-pipelines\\output\n",
      "Source files: [WindowsPath('D:/GIT/docling-pipelines/source/.gitkeep'), WindowsPath('D:/GIT/docling-pipelines/source/CHEMISTRY GRADE 9 - REVIEW 2023 2 (1).pdf')]\n"
     ]
    }
   ],
   "execution_count": 2
  },
  {
   "cell_type": "code",
   "id": "0o3sbt85z5h",
   "source": "# Verify CUDA setup\nimport torch\nprint(f'PyTorch version: {torch.__version__}')\nprint(f'CUDA available: {torch.cuda.is_available()}')\nif torch.cuda.is_available():\n    print(f'CUDA version: {torch.version.cuda}')\n    print(f'GPU: {torch.cuda.get_device_name(0)}')\n    print(f'GPU Memory: {torch.cuda.get_device_properties(0).total_memory / 1024**3:.2f} GB')\n    # Test tensor on GPU\n    test_tensor = torch.ones(2, 2).cuda()\n    print(f'Test tensor created on: {test_tensor.device}')\nelse:\n    print('⚠️ CUDA not available - Docling will use CPU')",
   "metadata": {
    "ExecuteTime": {
     "end_time": "2025-08-20T11:32:40.769873Z",
     "start_time": "2025-08-20T11:32:37.868487Z"
    }
   },
   "outputs": [
    {
     "name": "stdout",
     "output_type": "stream",
     "text": [
      "PyTorch version: 2.5.1+cu121\n",
      "CUDA available: True\n",
      "CUDA version: 12.1\n",
      "GPU: NVIDIA GeForce RTX 4070 Laptop GPU\n",
      "GPU Memory: 8.00 GB\n",
      "Test tensor created on: cuda:0\n"
     ]
    }
   ],
   "execution_count": 3
  },
  {
   "cell_type": "markdown",
   "metadata": {},
   "source": [
    "## 1) Scripts quick-run (what each does)"
   ],
   "id": "d0e8e3106e50fddb"
  },
  {
   "cell_type": "markdown",
   "metadata": {},
   "source": [
    "- `general_convert.py`: basic PDF/URL conversion to Markdown/JSON."
   ],
   "id": "8f7567c6144ebee8"
  },
  {
   "cell_type": "code",
   "metadata": {},
   "source": [
    "%run scripts/general_convert.py"
   ],
   "execution_count": null,
   "outputs": [],
   "id": "5f888e70adfa86c7"
  },
  {
   "cell_type": "markdown",
   "metadata": {},
   "source": [
    "- `vlm_image_understanding.py`: VLM (SmolDocling) for image-heavy PDFs."
   ],
   "id": "e1e5b20abe5ce1cc"
  },
  {
   "cell_type": "code",
   "metadata": {},
   "source": [
    "%run scripts/vlm_image_understanding.py"
   ],
   "execution_count": null,
   "outputs": [],
   "id": "4ca8a767ab6374d9"
  },
  {
   "cell_type": "markdown",
   "metadata": {},
   "source": [
    "- `maths_processing.py`: converts and extracts math snippets heuristically."
   ],
   "id": "2f672e6feba7e6b2"
  },
  {
   "cell_type": "code",
   "metadata": {},
   "source": [
    "%run scripts/maths_processing.py"
   ],
   "execution_count": null,
   "outputs": [],
   "id": "775c92c1957a2e56"
  },
  {
   "cell_type": "markdown",
   "metadata": {},
   "source": [
    "- `contextual_hybrid_chunking.py`: HybridChunker raw + contextualized chunks."
   ],
   "id": "c318110daad0130e"
  },
  {
   "cell_type": "code",
   "metadata": {},
   "source": [
    "%run scripts/contextual_hybrid_chunking.py"
   ],
   "execution_count": null,
   "outputs": [],
   "id": "3a15d6360df3b370"
  },
  {
   "cell_type": "markdown",
   "metadata": {},
   "source": [
    "- `enrich_formula_understanding.py`: Formula Understanding enrichment (LaTeX/MathML)."
   ],
   "id": "3ec35f935b691a68"
  },
  {
   "cell_type": "code",
   "metadata": {},
   "source": [
    "%run scripts/enrich_formula_understanding.py"
   ],
   "execution_count": null,
   "outputs": [],
   "id": "85c63806ca2256c"
  },
  {
   "cell_type": "markdown",
   "metadata": {},
   "source": [
    "- `enrich_picture_description.py`: Picture Description enrichment (VLM captions)."
   ],
   "id": "e8c1a4954cac5703"
  },
  {
   "cell_type": "code",
   "metadata": {
    "ExecuteTime": {
     "end_time": "2025-08-20T12:42:15.254204Z",
     "start_time": "2025-08-20T12:42:11.047231Z"
    }
   },
   "source": [
    "%run scripts/enrich_picture_description.py"
   ],
   "id": "77bc7114f3e66652",
   "outputs": [
    {
     "name": "stdout",
     "output_type": "stream",
     "text": [
      "Processing file: Mathematics G9 (Main)- WEB 2023_3.pdf\n"
     ]
    },
    {
     "ename": "KeyboardInterrupt",
     "evalue": "",
     "output_type": "error",
     "traceback": [
      "\u001B[31m---------------------------------------------------------------------------\u001B[39m",
      "\u001B[31mKeyboardInterrupt\u001B[39m                         Traceback (most recent call last)",
      "\u001B[36mFile \u001B[39m\u001B[32mD:\\GIT\\docling-pipelines\\scripts\\enrich_picture_description.py:65\u001B[39m\n\u001B[32m     61\u001B[39m     \u001B[38;5;28;01mreturn\u001B[39;00m \u001B[32m0\u001B[39m\n\u001B[32m     64\u001B[39m \u001B[38;5;28;01mif\u001B[39;00m \u001B[34m__name__\u001B[39m == \u001B[33m\"\u001B[39m\u001B[33m__main__\u001B[39m\u001B[33m\"\u001B[39m:\n\u001B[32m---> \u001B[39m\u001B[32m65\u001B[39m     \u001B[38;5;28;01mraise\u001B[39;00m \u001B[38;5;167;01mSystemExit\u001B[39;00m(\u001B[43mmain\u001B[49m\u001B[43m(\u001B[49m\u001B[43m)\u001B[49m)\n",
      "\u001B[36mFile \u001B[39m\u001B[32mD:\\GIT\\docling-pipelines\\scripts\\enrich_picture_description.py:57\u001B[39m, in \u001B[36mmain\u001B[39m\u001B[34m()\u001B[39m\n\u001B[32m     55\u001B[39m \u001B[38;5;28;01mfor\u001B[39;00m pdf \u001B[38;5;129;01min\u001B[39;00m pdfs:\n\u001B[32m     56\u001B[39m     \u001B[38;5;28;01mtry\u001B[39;00m:\n\u001B[32m---> \u001B[39m\u001B[32m57\u001B[39m         \u001B[43mrun_picture_description\u001B[49m\u001B[43m(\u001B[49m\u001B[43mpdf\u001B[49m\u001B[43m,\u001B[49m\u001B[43m \u001B[49m\u001B[43mout_dir\u001B[49m\u001B[43m,\u001B[49m\u001B[43m \u001B[49m\u001B[43marchive_dir\u001B[49m\u001B[43m)\u001B[49m\n\u001B[32m     58\u001B[39m     \u001B[38;5;28;01mexcept\u001B[39;00m \u001B[38;5;167;01mException\u001B[39;00m \u001B[38;5;28;01mas\u001B[39;00m e:\n\u001B[32m     59\u001B[39m         \u001B[38;5;28mprint\u001B[39m(\u001B[33mf\u001B[39m\u001B[33m\"\u001B[39m\u001B[33mFailed picture description for \u001B[39m\u001B[38;5;132;01m{\u001B[39;00mpdf\u001B[38;5;132;01m}\u001B[39;00m\u001B[33m: \u001B[39m\u001B[38;5;132;01m{\u001B[39;00me\u001B[38;5;132;01m}\u001B[39;00m\u001B[33m\"\u001B[39m)\n",
      "\u001B[36mFile \u001B[39m\u001B[32mD:\\GIT\\docling-pipelines\\scripts\\enrich_picture_description.py:25\u001B[39m, in \u001B[36mrun_picture_description\u001B[39m\u001B[34m(pdf_path, out_dir, archive_dir)\u001B[39m\n\u001B[32m     15\u001B[39m \u001B[38;5;66;03m# Optional: choose a specific vision model preset, e.g. SmolVLM or Granite.\u001B[39;00m\n\u001B[32m     16\u001B[39m \u001B[38;5;66;03m# from docling.datamodel.pipeline_options import smolvlm_picture_description\u001B[39;00m\n\u001B[32m     17\u001B[39m \u001B[38;5;66;03m# pipeline_options.picture_description_options = smolvlm_picture_description\u001B[39;00m\n\u001B[32m     19\u001B[39m converter = DocumentConverter(\n\u001B[32m     20\u001B[39m     format_options={\n\u001B[32m     21\u001B[39m         InputFormat.PDF: PdfFormatOption(pipeline_options=pipeline_options)\n\u001B[32m     22\u001B[39m     }\n\u001B[32m     23\u001B[39m )\n\u001B[32m---> \u001B[39m\u001B[32m25\u001B[39m doc = \u001B[43mconverter\u001B[49m\u001B[43m.\u001B[49m\u001B[43mconvert\u001B[49m\u001B[43m(\u001B[49m\u001B[38;5;28;43mstr\u001B[39;49m\u001B[43m(\u001B[49m\u001B[43mpdf_path\u001B[49m\u001B[43m)\u001B[49m\u001B[43m)\u001B[49m.document\n\u001B[32m     27\u001B[39m ts = datetime.now().strftime(\u001B[33m\"\u001B[39m\u001B[33m%\u001B[39m\u001B[33mY\u001B[39m\u001B[33m%\u001B[39m\u001B[33mm\u001B[39m\u001B[38;5;132;01m%d\u001B[39;00m\u001B[33m_\u001B[39m\u001B[33m%\u001B[39m\u001B[33mH\u001B[39m\u001B[33m%\u001B[39m\u001B[33mM\u001B[39m\u001B[33m%\u001B[39m\u001B[33mS\u001B[39m\u001B[33m\"\u001B[39m)\n\u001B[32m     28\u001B[39m base = \u001B[33mf\u001B[39m\u001B[33m\"\u001B[39m\u001B[38;5;132;01m{\u001B[39;00mpdf_path.stem\u001B[38;5;132;01m}\u001B[39;00m\u001B[33m__picdesc__\u001B[39m\u001B[38;5;132;01m{\u001B[39;00mts\u001B[38;5;132;01m}\u001B[39;00m\u001B[33m\"\u001B[39m\n",
      "\u001B[36mFile \u001B[39m\u001B[32mD:\\GIT\\docling-pipelines\\.venv\\Lib\\site-packages\\pydantic\\_internal\\_validate_call.py:39\u001B[39m, in \u001B[36mupdate_wrapper_attributes.<locals>.wrapper_function\u001B[39m\u001B[34m(*args, **kwargs)\u001B[39m\n\u001B[32m     37\u001B[39m \u001B[38;5;129m@functools\u001B[39m.wraps(wrapped)\n\u001B[32m     38\u001B[39m \u001B[38;5;28;01mdef\u001B[39;00m\u001B[38;5;250m \u001B[39m\u001B[34mwrapper_function\u001B[39m(*args, **kwargs):\n\u001B[32m---> \u001B[39m\u001B[32m39\u001B[39m     \u001B[38;5;28;01mreturn\u001B[39;00m \u001B[43mwrapper\u001B[49m\u001B[43m(\u001B[49m\u001B[43m*\u001B[49m\u001B[43margs\u001B[49m\u001B[43m,\u001B[49m\u001B[43m \u001B[49m\u001B[43m*\u001B[49m\u001B[43m*\u001B[49m\u001B[43mkwargs\u001B[49m\u001B[43m)\u001B[49m\n",
      "\u001B[36mFile \u001B[39m\u001B[32mD:\\GIT\\docling-pipelines\\.venv\\Lib\\site-packages\\pydantic\\_internal\\_validate_call.py:136\u001B[39m, in \u001B[36mValidateCallWrapper.__call__\u001B[39m\u001B[34m(self, *args, **kwargs)\u001B[39m\n\u001B[32m    133\u001B[39m \u001B[38;5;28;01mif\u001B[39;00m \u001B[38;5;129;01mnot\u001B[39;00m \u001B[38;5;28mself\u001B[39m.__pydantic_complete__:\n\u001B[32m    134\u001B[39m     \u001B[38;5;28mself\u001B[39m._create_validators()\n\u001B[32m--> \u001B[39m\u001B[32m136\u001B[39m res = \u001B[38;5;28;43mself\u001B[39;49m\u001B[43m.\u001B[49m\u001B[43m__pydantic_validator__\u001B[49m\u001B[43m.\u001B[49m\u001B[43mvalidate_python\u001B[49m\u001B[43m(\u001B[49m\u001B[43mpydantic_core\u001B[49m\u001B[43m.\u001B[49m\u001B[43mArgsKwargs\u001B[49m\u001B[43m(\u001B[49m\u001B[43margs\u001B[49m\u001B[43m,\u001B[49m\u001B[43m \u001B[49m\u001B[43mkwargs\u001B[49m\u001B[43m)\u001B[49m\u001B[43m)\u001B[49m\n\u001B[32m    137\u001B[39m \u001B[38;5;28;01mif\u001B[39;00m \u001B[38;5;28mself\u001B[39m.__return_pydantic_validator__:\n\u001B[32m    138\u001B[39m     \u001B[38;5;28;01mreturn\u001B[39;00m \u001B[38;5;28mself\u001B[39m.__return_pydantic_validator__(res)\n",
      "\u001B[36mFile \u001B[39m\u001B[32mD:\\GIT\\docling-pipelines\\.venv\\Lib\\site-packages\\docling\\document_converter.py:244\u001B[39m, in \u001B[36mDocumentConverter.convert\u001B[39m\u001B[34m(self, source, headers, raises_on_error, max_num_pages, max_file_size, page_range)\u001B[39m\n\u001B[32m    226\u001B[39m \u001B[38;5;129m@validate_call\u001B[39m(config=ConfigDict(strict=\u001B[38;5;28;01mTrue\u001B[39;00m))\n\u001B[32m    227\u001B[39m \u001B[38;5;28;01mdef\u001B[39;00m\u001B[38;5;250m \u001B[39m\u001B[34mconvert\u001B[39m(\n\u001B[32m    228\u001B[39m     \u001B[38;5;28mself\u001B[39m,\n\u001B[32m   (...)\u001B[39m\u001B[32m    234\u001B[39m     page_range: PageRange = DEFAULT_PAGE_RANGE,\n\u001B[32m    235\u001B[39m ) -> ConversionResult:\n\u001B[32m    236\u001B[39m     all_res = \u001B[38;5;28mself\u001B[39m.convert_all(\n\u001B[32m    237\u001B[39m         source=[source],\n\u001B[32m    238\u001B[39m         raises_on_error=raises_on_error,\n\u001B[32m   (...)\u001B[39m\u001B[32m    242\u001B[39m         page_range=page_range,\n\u001B[32m    243\u001B[39m     )\n\u001B[32m--> \u001B[39m\u001B[32m244\u001B[39m     \u001B[38;5;28;01mreturn\u001B[39;00m \u001B[38;5;28;43mnext\u001B[39;49m\u001B[43m(\u001B[49m\u001B[43mall_res\u001B[49m\u001B[43m)\u001B[49m\n",
      "\u001B[36mFile \u001B[39m\u001B[32mD:\\GIT\\docling-pipelines\\.venv\\Lib\\site-packages\\docling\\document_converter.py:267\u001B[39m, in \u001B[36mDocumentConverter.convert_all\u001B[39m\u001B[34m(self, source, headers, raises_on_error, max_num_pages, max_file_size, page_range)\u001B[39m\n\u001B[32m    264\u001B[39m conv_res_iter = \u001B[38;5;28mself\u001B[39m._convert(conv_input, raises_on_error=raises_on_error)\n\u001B[32m    266\u001B[39m had_result = \u001B[38;5;28;01mFalse\u001B[39;00m\n\u001B[32m--> \u001B[39m\u001B[32m267\u001B[39m \u001B[43m\u001B[49m\u001B[38;5;28;43;01mfor\u001B[39;49;00m\u001B[43m \u001B[49m\u001B[43mconv_res\u001B[49m\u001B[43m \u001B[49m\u001B[38;5;129;43;01min\u001B[39;49;00m\u001B[43m \u001B[49m\u001B[43mconv_res_iter\u001B[49m\u001B[43m:\u001B[49m\n\u001B[32m    268\u001B[39m \u001B[43m    \u001B[49m\u001B[43mhad_result\u001B[49m\u001B[43m \u001B[49m\u001B[43m=\u001B[49m\u001B[43m \u001B[49m\u001B[38;5;28;43;01mTrue\u001B[39;49;00m\n\u001B[32m    269\u001B[39m \u001B[43m    \u001B[49m\u001B[38;5;28;43;01mif\u001B[39;49;00m\u001B[43m \u001B[49m\u001B[43mraises_on_error\u001B[49m\u001B[43m \u001B[49m\u001B[38;5;129;43;01mand\u001B[39;49;00m\u001B[43m \u001B[49m\u001B[43mconv_res\u001B[49m\u001B[43m.\u001B[49m\u001B[43mstatus\u001B[49m\u001B[43m \u001B[49m\u001B[38;5;129;43;01mnot\u001B[39;49;00m\u001B[43m \u001B[49m\u001B[38;5;129;43;01min\u001B[39;49;00m\u001B[43m \u001B[49m\u001B[43m{\u001B[49m\n\u001B[32m    270\u001B[39m \u001B[43m        \u001B[49m\u001B[43mConversionStatus\u001B[49m\u001B[43m.\u001B[49m\u001B[43mSUCCESS\u001B[49m\u001B[43m,\u001B[49m\n\u001B[32m    271\u001B[39m \u001B[43m        \u001B[49m\u001B[43mConversionStatus\u001B[49m\u001B[43m.\u001B[49m\u001B[43mPARTIAL_SUCCESS\u001B[49m\u001B[43m,\u001B[49m\n\u001B[32m    272\u001B[39m \u001B[43m    \u001B[49m\u001B[43m}\u001B[49m\u001B[43m:\u001B[49m\n",
      "\u001B[36mFile \u001B[39m\u001B[32mD:\\GIT\\docling-pipelines\\.venv\\Lib\\site-packages\\docling\\document_converter.py:339\u001B[39m, in \u001B[36mDocumentConverter._convert\u001B[39m\u001B[34m(self, conv_input, raises_on_error)\u001B[39m\n\u001B[32m    337\u001B[39m             \u001B[38;5;28;01myield\u001B[39;00m item\n\u001B[32m    338\u001B[39m \u001B[38;5;28;01melse\u001B[39;00m:\n\u001B[32m--> \u001B[39m\u001B[32m339\u001B[39m \u001B[43m    \u001B[49m\u001B[38;5;28;43;01mfor\u001B[39;49;00m\u001B[43m \u001B[49m\u001B[43mitem\u001B[49m\u001B[43m \u001B[49m\u001B[38;5;129;43;01min\u001B[39;49;00m\u001B[43m \u001B[49m\u001B[38;5;28;43mmap\u001B[39;49m\u001B[43m(\u001B[49m\n\u001B[32m    340\u001B[39m \u001B[43m        \u001B[49m\u001B[43mprocess_func\u001B[49m\u001B[43m,\u001B[49m\n\u001B[32m    341\u001B[39m \u001B[43m        \u001B[49m\u001B[43minput_batch\u001B[49m\u001B[43m,\u001B[49m\n\u001B[32m    342\u001B[39m \u001B[43m    \u001B[49m\u001B[43m)\u001B[49m\u001B[43m:\u001B[49m\n\u001B[32m    343\u001B[39m \u001B[43m        \u001B[49m\u001B[43melapsed\u001B[49m\u001B[43m \u001B[49m\u001B[43m=\u001B[49m\u001B[43m \u001B[49m\u001B[43mtime\u001B[49m\u001B[43m.\u001B[49m\u001B[43mmonotonic\u001B[49m\u001B[43m(\u001B[49m\u001B[43m)\u001B[49m\u001B[43m \u001B[49m\u001B[43m-\u001B[49m\u001B[43m \u001B[49m\u001B[43mstart_time\u001B[49m\n\u001B[32m    344\u001B[39m \u001B[43m        \u001B[49m\u001B[43mstart_time\u001B[49m\u001B[43m \u001B[49m\u001B[43m=\u001B[49m\u001B[43m \u001B[49m\u001B[43mtime\u001B[49m\u001B[43m.\u001B[49m\u001B[43mmonotonic\u001B[49m\u001B[43m(\u001B[49m\u001B[43m)\u001B[49m\n",
      "\u001B[36mFile \u001B[39m\u001B[32mD:\\GIT\\docling-pipelines\\.venv\\Lib\\site-packages\\docling\\document_converter.py:386\u001B[39m, in \u001B[36mDocumentConverter._process_document\u001B[39m\u001B[34m(self, in_doc, raises_on_error)\u001B[39m\n\u001B[32m    382\u001B[39m valid = (\n\u001B[32m    383\u001B[39m     \u001B[38;5;28mself\u001B[39m.allowed_formats \u001B[38;5;129;01mis\u001B[39;00m \u001B[38;5;129;01mnot\u001B[39;00m \u001B[38;5;28;01mNone\u001B[39;00m \u001B[38;5;129;01mand\u001B[39;00m in_doc.format \u001B[38;5;129;01min\u001B[39;00m \u001B[38;5;28mself\u001B[39m.allowed_formats\n\u001B[32m    384\u001B[39m )\n\u001B[32m    385\u001B[39m \u001B[38;5;28;01mif\u001B[39;00m valid:\n\u001B[32m--> \u001B[39m\u001B[32m386\u001B[39m     conv_res = \u001B[38;5;28;43mself\u001B[39;49m\u001B[43m.\u001B[49m\u001B[43m_execute_pipeline\u001B[49m\u001B[43m(\u001B[49m\u001B[43min_doc\u001B[49m\u001B[43m,\u001B[49m\u001B[43m \u001B[49m\u001B[43mraises_on_error\u001B[49m\u001B[43m=\u001B[49m\u001B[43mraises_on_error\u001B[49m\u001B[43m)\u001B[49m\n\u001B[32m    387\u001B[39m \u001B[38;5;28;01melse\u001B[39;00m:\n\u001B[32m    388\u001B[39m     error_message = \u001B[33mf\u001B[39m\u001B[33m\"\u001B[39m\u001B[33mFile format not allowed: \u001B[39m\u001B[38;5;132;01m{\u001B[39;00min_doc.file\u001B[38;5;132;01m}\u001B[39;00m\u001B[33m\"\u001B[39m\n",
      "\u001B[36mFile \u001B[39m\u001B[32mD:\\GIT\\docling-pipelines\\.venv\\Lib\\site-packages\\docling\\document_converter.py:407\u001B[39m, in \u001B[36mDocumentConverter._execute_pipeline\u001B[39m\u001B[34m(self, in_doc, raises_on_error)\u001B[39m\n\u001B[32m    403\u001B[39m \u001B[38;5;28;01mdef\u001B[39;00m\u001B[38;5;250m \u001B[39m\u001B[34m_execute_pipeline\u001B[39m(\n\u001B[32m    404\u001B[39m     \u001B[38;5;28mself\u001B[39m, in_doc: InputDocument, raises_on_error: \u001B[38;5;28mbool\u001B[39m\n\u001B[32m    405\u001B[39m ) -> ConversionResult:\n\u001B[32m    406\u001B[39m     \u001B[38;5;28;01mif\u001B[39;00m in_doc.valid:\n\u001B[32m--> \u001B[39m\u001B[32m407\u001B[39m         pipeline = \u001B[38;5;28;43mself\u001B[39;49m\u001B[43m.\u001B[49m\u001B[43m_get_pipeline\u001B[49m\u001B[43m(\u001B[49m\u001B[43min_doc\u001B[49m\u001B[43m.\u001B[49m\u001B[43mformat\u001B[49m\u001B[43m)\u001B[49m\n\u001B[32m    408\u001B[39m         \u001B[38;5;28;01mif\u001B[39;00m pipeline \u001B[38;5;129;01mis\u001B[39;00m \u001B[38;5;129;01mnot\u001B[39;00m \u001B[38;5;28;01mNone\u001B[39;00m:\n\u001B[32m    409\u001B[39m             conv_res = pipeline.execute(in_doc, raises_on_error=raises_on_error)\n",
      "\u001B[36mFile \u001B[39m\u001B[32mD:\\GIT\\docling-pipelines\\.venv\\Lib\\site-packages\\docling\\document_converter.py:369\u001B[39m, in \u001B[36mDocumentConverter._get_pipeline\u001B[39m\u001B[34m(self, doc_format)\u001B[39m\n\u001B[32m    365\u001B[39m \u001B[38;5;28;01mif\u001B[39;00m cache_key \u001B[38;5;129;01mnot\u001B[39;00m \u001B[38;5;129;01min\u001B[39;00m \u001B[38;5;28mself\u001B[39m.initialized_pipelines:\n\u001B[32m    366\u001B[39m     _log.info(\n\u001B[32m    367\u001B[39m         \u001B[33mf\u001B[39m\u001B[33m\"\u001B[39m\u001B[33mInitializing pipeline for \u001B[39m\u001B[38;5;132;01m{\u001B[39;00mpipeline_class.\u001B[34m__name__\u001B[39m\u001B[38;5;132;01m}\u001B[39;00m\u001B[33m with options hash \u001B[39m\u001B[38;5;132;01m{\u001B[39;00moptions_hash\u001B[38;5;132;01m}\u001B[39;00m\u001B[33m\"\u001B[39m\n\u001B[32m    368\u001B[39m     )\n\u001B[32m--> \u001B[39m\u001B[32m369\u001B[39m     \u001B[38;5;28mself\u001B[39m.initialized_pipelines[cache_key] = \u001B[43mpipeline_class\u001B[49m\u001B[43m(\u001B[49m\n\u001B[32m    370\u001B[39m \u001B[43m        \u001B[49m\u001B[43mpipeline_options\u001B[49m\u001B[43m=\u001B[49m\u001B[43mpipeline_options\u001B[49m\n\u001B[32m    371\u001B[39m \u001B[43m    \u001B[49m\u001B[43m)\u001B[49m\n\u001B[32m    372\u001B[39m \u001B[38;5;28;01melse\u001B[39;00m:\n\u001B[32m    373\u001B[39m     _log.debug(\n\u001B[32m    374\u001B[39m         \u001B[33mf\u001B[39m\u001B[33m\"\u001B[39m\u001B[33mReusing cached pipeline for \u001B[39m\u001B[38;5;132;01m{\u001B[39;00mpipeline_class.\u001B[34m__name__\u001B[39m\u001B[38;5;132;01m}\u001B[39;00m\u001B[33m with options hash \u001B[39m\u001B[38;5;132;01m{\u001B[39;00moptions_hash\u001B[38;5;132;01m}\u001B[39;00m\u001B[33m\"\u001B[39m\n\u001B[32m    375\u001B[39m     )\n",
      "\u001B[36mFile \u001B[39m\u001B[32mD:\\GIT\\docling-pipelines\\.venv\\Lib\\site-packages\\docling\\pipeline\\standard_pdf_pipeline.py:84\u001B[39m, in \u001B[36mStandardPdfPipeline.__init__\u001B[39m\u001B[34m(self, pipeline_options)\u001B[39m\n\u001B[32m     64\u001B[39m \u001B[38;5;28mself\u001B[39m.reading_order_model = ReadingOrderModel(options=ReadingOrderOptions())\n\u001B[32m     66\u001B[39m ocr_model = \u001B[38;5;28mself\u001B[39m.get_ocr_model(artifacts_path=artifacts_path)\n\u001B[32m     68\u001B[39m \u001B[38;5;28mself\u001B[39m.build_pipe = [\n\u001B[32m     69\u001B[39m     \u001B[38;5;66;03m# Pre-processing\u001B[39;00m\n\u001B[32m     70\u001B[39m     PagePreprocessingModel(\n\u001B[32m     71\u001B[39m         options=PagePreprocessingOptions(\n\u001B[32m     72\u001B[39m             images_scale=pipeline_options.images_scale,\n\u001B[32m     73\u001B[39m         )\n\u001B[32m     74\u001B[39m     ),\n\u001B[32m     75\u001B[39m     \u001B[38;5;66;03m# OCR\u001B[39;00m\n\u001B[32m     76\u001B[39m     ocr_model,\n\u001B[32m     77\u001B[39m     \u001B[38;5;66;03m# Layout model\u001B[39;00m\n\u001B[32m     78\u001B[39m     LayoutModel(\n\u001B[32m     79\u001B[39m         artifacts_path=artifacts_path,\n\u001B[32m     80\u001B[39m         accelerator_options=pipeline_options.accelerator_options,\n\u001B[32m     81\u001B[39m         options=pipeline_options.layout_options,\n\u001B[32m     82\u001B[39m     ),\n\u001B[32m     83\u001B[39m     \u001B[38;5;66;03m# Table structure model\u001B[39;00m\n\u001B[32m---> \u001B[39m\u001B[32m84\u001B[39m     \u001B[43mTableStructureModel\u001B[49m\u001B[43m(\u001B[49m\n\u001B[32m     85\u001B[39m \u001B[43m        \u001B[49m\u001B[43menabled\u001B[49m\u001B[43m=\u001B[49m\u001B[43mpipeline_options\u001B[49m\u001B[43m.\u001B[49m\u001B[43mdo_table_structure\u001B[49m\u001B[43m,\u001B[49m\n\u001B[32m     86\u001B[39m \u001B[43m        \u001B[49m\u001B[43martifacts_path\u001B[49m\u001B[43m=\u001B[49m\u001B[43martifacts_path\u001B[49m\u001B[43m,\u001B[49m\n\u001B[32m     87\u001B[39m \u001B[43m        \u001B[49m\u001B[43moptions\u001B[49m\u001B[43m=\u001B[49m\u001B[43mpipeline_options\u001B[49m\u001B[43m.\u001B[49m\u001B[43mtable_structure_options\u001B[49m\u001B[43m,\u001B[49m\n\u001B[32m     88\u001B[39m \u001B[43m        \u001B[49m\u001B[43maccelerator_options\u001B[49m\u001B[43m=\u001B[49m\u001B[43mpipeline_options\u001B[49m\u001B[43m.\u001B[49m\u001B[43maccelerator_options\u001B[49m\u001B[43m,\u001B[49m\n\u001B[32m     89\u001B[39m \u001B[43m    \u001B[49m\u001B[43m)\u001B[49m,\n\u001B[32m     90\u001B[39m     \u001B[38;5;66;03m# Page assemble\u001B[39;00m\n\u001B[32m     91\u001B[39m     PageAssembleModel(options=PageAssembleOptions()),\n\u001B[32m     92\u001B[39m ]\n\u001B[32m     94\u001B[39m \u001B[38;5;66;03m# Picture description model\u001B[39;00m\n\u001B[32m     95\u001B[39m \u001B[38;5;28;01mif\u001B[39;00m (\n\u001B[32m     96\u001B[39m     picture_description_model := \u001B[38;5;28mself\u001B[39m.get_picture_description_model(\n\u001B[32m     97\u001B[39m         artifacts_path=artifacts_path\n\u001B[32m     98\u001B[39m     )\n\u001B[32m     99\u001B[39m ) \u001B[38;5;129;01mis\u001B[39;00m \u001B[38;5;28;01mNone\u001B[39;00m:\n",
      "\u001B[36mFile \u001B[39m\u001B[32mD:\\GIT\\docling-pipelines\\.venv\\Lib\\site-packages\\docling\\models\\table_structure_model.py:86\u001B[39m, in \u001B[36mTableStructureModel.__init__\u001B[39m\u001B[34m(self, enabled, artifacts_path, options, accelerator_options)\u001B[39m\n\u001B[32m     83\u001B[39m \u001B[38;5;28mself\u001B[39m.tm_config[\u001B[33m\"\u001B[39m\u001B[33mmodel\u001B[39m\u001B[33m\"\u001B[39m][\u001B[33m\"\u001B[39m\u001B[33msave_dir\u001B[39m\u001B[33m\"\u001B[39m] = artifacts_path\n\u001B[32m     84\u001B[39m \u001B[38;5;28mself\u001B[39m.tm_model_type = \u001B[38;5;28mself\u001B[39m.tm_config[\u001B[33m\"\u001B[39m\u001B[33mmodel\u001B[39m\u001B[33m\"\u001B[39m][\u001B[33m\"\u001B[39m\u001B[33mtype\u001B[39m\u001B[33m\"\u001B[39m]\n\u001B[32m---> \u001B[39m\u001B[32m86\u001B[39m \u001B[38;5;28mself\u001B[39m.tf_predictor = \u001B[43mTFPredictor\u001B[49m\u001B[43m(\u001B[49m\n\u001B[32m     87\u001B[39m \u001B[43m    \u001B[49m\u001B[38;5;28;43mself\u001B[39;49m\u001B[43m.\u001B[49m\u001B[43mtm_config\u001B[49m\u001B[43m,\u001B[49m\u001B[43m \u001B[49m\u001B[43mdevice\u001B[49m\u001B[43m,\u001B[49m\u001B[43m \u001B[49m\u001B[43maccelerator_options\u001B[49m\u001B[43m.\u001B[49m\u001B[43mnum_threads\u001B[49m\n\u001B[32m     88\u001B[39m \u001B[43m\u001B[49m\u001B[43m)\u001B[49m\n\u001B[32m     89\u001B[39m \u001B[38;5;28mself\u001B[39m.scale = \u001B[32m2.0\u001B[39m\n",
      "\u001B[36mFile \u001B[39m\u001B[32mD:\\GIT\\docling-pipelines\\.venv\\Lib\\site-packages\\docling_ibm_models\\tableformer\\data_management\\tf_predictor.py:131\u001B[39m, in \u001B[36mTFPredictor.__init__\u001B[39m\u001B[34m(self, config, device, num_threads)\u001B[39m\n\u001B[32m    128\u001B[39m     torch.set_num_threads(\u001B[38;5;28mself\u001B[39m._num_threads)\n\u001B[32m    130\u001B[39m \u001B[38;5;66;03m# Load the model\u001B[39;00m\n\u001B[32m--> \u001B[39m\u001B[32m131\u001B[39m \u001B[38;5;28mself\u001B[39m._model = \u001B[38;5;28;43mself\u001B[39;49m\u001B[43m.\u001B[49m\u001B[43m_load_model\u001B[49m\u001B[43m(\u001B[49m\u001B[43m)\u001B[49m\n\u001B[32m    132\u001B[39m \u001B[38;5;28mself\u001B[39m._model.eval()\n\u001B[32m    133\u001B[39m \u001B[38;5;28mself\u001B[39m._prof = config[\u001B[33m\"\u001B[39m\u001B[33mpredict\u001B[39m\u001B[33m\"\u001B[39m].get(\u001B[33m\"\u001B[39m\u001B[33mprofiling\u001B[39m\u001B[33m\"\u001B[39m, \u001B[38;5;28;01mFalse\u001B[39;00m)\n",
      "\u001B[36mFile \u001B[39m\u001B[32mD:\\GIT\\docling-pipelines\\.venv\\Lib\\site-packages\\docling_ibm_models\\tableformer\\data_management\\tf_predictor.py:185\u001B[39m, in \u001B[36mTFPredictor._load_model\u001B[39m\u001B[34m(self)\u001B[39m\n\u001B[32m    183\u001B[39m \u001B[38;5;66;03m# Use lock to prevent threading issues during model initialization\u001B[39;00m\n\u001B[32m    184\u001B[39m \u001B[38;5;28;01mwith\u001B[39;00m _model_init_lock:\n\u001B[32m--> \u001B[39m\u001B[32m185\u001B[39m     model = \u001B[43mTableModel04_rs\u001B[49m\u001B[43m(\u001B[49m\u001B[38;5;28;43mself\u001B[39;49m\u001B[43m.\u001B[49m\u001B[43m_config\u001B[49m\u001B[43m,\u001B[49m\u001B[43m \u001B[49m\u001B[38;5;28;43mself\u001B[39;49m\u001B[43m.\u001B[49m\u001B[43m_init_data\u001B[49m\u001B[43m,\u001B[49m\u001B[43m \u001B[49m\u001B[38;5;28;43mself\u001B[39;49m\u001B[43m.\u001B[49m\u001B[43m_device\u001B[49m\u001B[43m)\u001B[49m\n\u001B[32m    187\u001B[39m     \u001B[38;5;28;01mif\u001B[39;00m model \u001B[38;5;129;01mis\u001B[39;00m \u001B[38;5;28;01mNone\u001B[39;00m:\n\u001B[32m    188\u001B[39m         err_msg = \u001B[33m\"\u001B[39m\u001B[33mNot able to initiate a model for \u001B[39m\u001B[38;5;132;01m{}\u001B[39;00m\u001B[33m\"\u001B[39m.format(\u001B[38;5;28mself\u001B[39m._model_type)\n",
      "\u001B[36mFile \u001B[39m\u001B[32mD:\\GIT\\docling-pipelines\\.venv\\Lib\\site-packages\\docling_ibm_models\\tableformer\\models\\table04_rs\\tablemodel04_rs.py:71\u001B[39m, in \u001B[36mTableModel04_rs.__init__\u001B[39m\u001B[34m(self, config, init_data, device)\u001B[39m\n\u001B[32m     67\u001B[39m \u001B[38;5;28mself\u001B[39m._enc_image_size = config[\u001B[33m\"\u001B[39m\u001B[33mmodel\u001B[39m\u001B[33m\"\u001B[39m][\u001B[33m\"\u001B[39m\u001B[33menc_image_size\u001B[39m\u001B[33m\"\u001B[39m]\n\u001B[32m     69\u001B[39m \u001B[38;5;28mself\u001B[39m._max_pred_len = config[\u001B[33m\"\u001B[39m\u001B[33mpredict\u001B[39m\u001B[33m\"\u001B[39m][\u001B[33m\"\u001B[39m\u001B[33mmax_steps\u001B[39m\u001B[33m\"\u001B[39m]\n\u001B[32m---> \u001B[39m\u001B[32m71\u001B[39m \u001B[38;5;28mself\u001B[39m._tag_transformer = \u001B[43mTag_Transformer\u001B[49m\u001B[43m(\u001B[49m\n\u001B[32m     72\u001B[39m \u001B[43m    \u001B[49m\u001B[43mdevice\u001B[49m\u001B[43m,\u001B[49m\n\u001B[32m     73\u001B[39m \u001B[43m    \u001B[49m\u001B[43mtag_vocab_size\u001B[49m\u001B[43m,\u001B[49m\n\u001B[32m     74\u001B[39m \u001B[43m    \u001B[49m\u001B[43mtd_encode\u001B[49m\u001B[43m,\u001B[49m\n\u001B[32m     75\u001B[39m \u001B[43m    \u001B[49m\u001B[38;5;28;43mself\u001B[39;49m\u001B[43m.\u001B[49m\u001B[43m_decoder_dim\u001B[49m\u001B[43m,\u001B[49m\n\u001B[32m     76\u001B[39m \u001B[43m    \u001B[49m\u001B[38;5;28;43mself\u001B[39;49m\u001B[43m.\u001B[49m\u001B[43m_enc_layers\u001B[49m\u001B[43m,\u001B[49m\n\u001B[32m     77\u001B[39m \u001B[43m    \u001B[49m\u001B[38;5;28;43mself\u001B[39;49m\u001B[43m.\u001B[49m\u001B[43m_dec_layers\u001B[49m\u001B[43m,\u001B[49m\n\u001B[32m     78\u001B[39m \u001B[43m    \u001B[49m\u001B[38;5;28;43mself\u001B[39;49m\u001B[43m.\u001B[49m\u001B[43m_enc_image_size\u001B[49m\u001B[43m,\u001B[49m\n\u001B[32m     79\u001B[39m \u001B[43m    \u001B[49m\u001B[43mn_heads\u001B[49m\u001B[43m=\u001B[49m\u001B[38;5;28;43mself\u001B[39;49m\u001B[43m.\u001B[49m\u001B[43m_n_heads\u001B[49m\u001B[43m,\u001B[49m\n\u001B[32m     80\u001B[39m \u001B[43m\u001B[49m\u001B[43m)\u001B[49m.to(device)\n\u001B[32m     82\u001B[39m \u001B[38;5;28mself\u001B[39m._bbox_decoder = BBoxDecoder(\n\u001B[32m     83\u001B[39m     device,\n\u001B[32m     84\u001B[39m     \u001B[38;5;28mself\u001B[39m._bbox_attention_dim,\n\u001B[32m   (...)\u001B[39m\u001B[32m     90\u001B[39m     \u001B[38;5;28mself\u001B[39m._dropout,\n\u001B[32m     91\u001B[39m ).to(device)\n",
      "\u001B[36mFile \u001B[39m\u001B[32mD:\\GIT\\docling-pipelines\\.venv\\Lib\\site-packages\\docling_ibm_models\\tableformer\\models\\table04_rs\\transformer_rs.py:164\u001B[39m, in \u001B[36mTag_Transformer.__init__\u001B[39m\u001B[34m(self, device, vocab_size, td_encode, embed_dim, encoder_layers, decoder_layers, enc_image_size, dropout, n_heads, dim_ff)\u001B[39m\n\u001B[32m    156\u001B[39m encoder_layer = nn.TransformerEncoderLayer(\n\u001B[32m    157\u001B[39m     d_model=embed_dim, nhead=n_heads, dim_feedforward=dim_ff\n\u001B[32m    158\u001B[39m )\n\u001B[32m    159\u001B[39m \u001B[38;5;28mself\u001B[39m._encoder = nn.TransformerEncoder(\n\u001B[32m    160\u001B[39m     encoder_layer, num_layers=encoder_layers, enable_nested_tensor=\u001B[38;5;28;01mFalse\u001B[39;00m\n\u001B[32m    161\u001B[39m )\n\u001B[32m    163\u001B[39m \u001B[38;5;28mself\u001B[39m._decoder = TMTransformerDecoder(\n\u001B[32m--> \u001B[39m\u001B[32m164\u001B[39m     \u001B[43mTMTransformerDecoderLayer\u001B[49m\u001B[43m(\u001B[49m\n\u001B[32m    165\u001B[39m \u001B[43m        \u001B[49m\u001B[43md_model\u001B[49m\u001B[43m=\u001B[49m\u001B[43membed_dim\u001B[49m\u001B[43m,\u001B[49m\n\u001B[32m    166\u001B[39m \u001B[43m        \u001B[49m\u001B[43mnhead\u001B[49m\u001B[43m=\u001B[49m\u001B[43mn_heads\u001B[49m\u001B[43m,\u001B[49m\n\u001B[32m    167\u001B[39m \u001B[43m        \u001B[49m\u001B[43mdim_feedforward\u001B[49m\u001B[43m=\u001B[49m\u001B[43mdim_ff\u001B[49m\u001B[43m,\u001B[49m\n\u001B[32m    168\u001B[39m \u001B[43m    \u001B[49m\u001B[43m)\u001B[49m,\n\u001B[32m    169\u001B[39m     num_layers=decoder_layers,\n\u001B[32m    170\u001B[39m )\n\u001B[32m    172\u001B[39m \u001B[38;5;28mself\u001B[39m._decoder_dim = embed_dim\n\u001B[32m    173\u001B[39m \u001B[38;5;28mself\u001B[39m._enc_image_size = enc_image_size\n",
      "\u001B[36mFile \u001B[39m\u001B[32mD:\\GIT\\docling-pipelines\\.venv\\Lib\\site-packages\\torch\\nn\\modules\\transformer.py:991\u001B[39m, in \u001B[36mTransformerDecoderLayer.__init__\u001B[39m\u001B[34m(self, d_model, nhead, dim_feedforward, dropout, activation, layer_norm_eps, batch_first, norm_first, bias, device, dtype)\u001B[39m\n\u001B[32m    989\u001B[39m factory_kwargs = {\u001B[33m\"\u001B[39m\u001B[33mdevice\u001B[39m\u001B[33m\"\u001B[39m: device, \u001B[33m\"\u001B[39m\u001B[33mdtype\u001B[39m\u001B[33m\"\u001B[39m: dtype}\n\u001B[32m    990\u001B[39m \u001B[38;5;28msuper\u001B[39m().\u001B[34m__init__\u001B[39m()\n\u001B[32m--> \u001B[39m\u001B[32m991\u001B[39m \u001B[38;5;28mself\u001B[39m.self_attn = \u001B[43mMultiheadAttention\u001B[49m\u001B[43m(\u001B[49m\n\u001B[32m    992\u001B[39m \u001B[43m    \u001B[49m\u001B[43md_model\u001B[49m\u001B[43m,\u001B[49m\n\u001B[32m    993\u001B[39m \u001B[43m    \u001B[49m\u001B[43mnhead\u001B[49m\u001B[43m,\u001B[49m\n\u001B[32m    994\u001B[39m \u001B[43m    \u001B[49m\u001B[43mdropout\u001B[49m\u001B[43m=\u001B[49m\u001B[43mdropout\u001B[49m\u001B[43m,\u001B[49m\n\u001B[32m    995\u001B[39m \u001B[43m    \u001B[49m\u001B[43mbatch_first\u001B[49m\u001B[43m=\u001B[49m\u001B[43mbatch_first\u001B[49m\u001B[43m,\u001B[49m\n\u001B[32m    996\u001B[39m \u001B[43m    \u001B[49m\u001B[43mbias\u001B[49m\u001B[43m=\u001B[49m\u001B[43mbias\u001B[49m\u001B[43m,\u001B[49m\n\u001B[32m    997\u001B[39m \u001B[43m    \u001B[49m\u001B[43m*\u001B[49m\u001B[43m*\u001B[49m\u001B[43mfactory_kwargs\u001B[49m\u001B[43m,\u001B[49m\n\u001B[32m    998\u001B[39m \u001B[43m\u001B[49m\u001B[43m)\u001B[49m\n\u001B[32m    999\u001B[39m \u001B[38;5;28mself\u001B[39m.multihead_attn = MultiheadAttention(\n\u001B[32m   1000\u001B[39m     d_model,\n\u001B[32m   1001\u001B[39m     nhead,\n\u001B[32m   (...)\u001B[39m\u001B[32m   1005\u001B[39m     **factory_kwargs,\n\u001B[32m   1006\u001B[39m )\n\u001B[32m   1007\u001B[39m \u001B[38;5;66;03m# Implementation of Feedforward model\u001B[39;00m\n",
      "\u001B[36mFile \u001B[39m\u001B[32mD:\\GIT\\docling-pipelines\\.venv\\Lib\\site-packages\\torch\\nn\\modules\\activation.py:1109\u001B[39m, in \u001B[36mMultiheadAttention.__init__\u001B[39m\u001B[34m(self, embed_dim, num_heads, dropout, bias, add_bias_kv, add_zero_attn, kdim, vdim, batch_first, device, dtype)\u001B[39m\n\u001B[32m   1105\u001B[39m     \u001B[38;5;28mself\u001B[39m.bias_k = \u001B[38;5;28mself\u001B[39m.bias_v = \u001B[38;5;28;01mNone\u001B[39;00m\n\u001B[32m   1107\u001B[39m \u001B[38;5;28mself\u001B[39m.add_zero_attn = add_zero_attn\n\u001B[32m-> \u001B[39m\u001B[32m1109\u001B[39m \u001B[38;5;28;43mself\u001B[39;49m\u001B[43m.\u001B[49m\u001B[43m_reset_parameters\u001B[49m\u001B[43m(\u001B[49m\u001B[43m)\u001B[49m\n",
      "\u001B[36mFile \u001B[39m\u001B[32mD:\\GIT\\docling-pipelines\\.venv\\Lib\\site-packages\\torch\\nn\\modules\\activation.py:1113\u001B[39m, in \u001B[36mMultiheadAttention._reset_parameters\u001B[39m\u001B[34m(self)\u001B[39m\n\u001B[32m   1111\u001B[39m \u001B[38;5;28;01mdef\u001B[39;00m\u001B[38;5;250m \u001B[39m\u001B[34m_reset_parameters\u001B[39m(\u001B[38;5;28mself\u001B[39m):\n\u001B[32m   1112\u001B[39m     \u001B[38;5;28;01mif\u001B[39;00m \u001B[38;5;28mself\u001B[39m._qkv_same_embed_dim:\n\u001B[32m-> \u001B[39m\u001B[32m1113\u001B[39m         \u001B[43mxavier_uniform_\u001B[49m\u001B[43m(\u001B[49m\u001B[38;5;28;43mself\u001B[39;49m\u001B[43m.\u001B[49m\u001B[43min_proj_weight\u001B[49m\u001B[43m)\u001B[49m\n\u001B[32m   1114\u001B[39m     \u001B[38;5;28;01melse\u001B[39;00m:\n\u001B[32m   1115\u001B[39m         xavier_uniform_(\u001B[38;5;28mself\u001B[39m.q_proj_weight)\n",
      "\u001B[36mFile \u001B[39m\u001B[32mD:\\GIT\\docling-pipelines\\.venv\\Lib\\site-packages\\torch\\nn\\init.py:404\u001B[39m, in \u001B[36mxavier_uniform_\u001B[39m\u001B[34m(tensor, gain, generator)\u001B[39m\n\u001B[32m    401\u001B[39m std = gain * math.sqrt(\u001B[32m2.0\u001B[39m / \u001B[38;5;28mfloat\u001B[39m(fan_in + fan_out))\n\u001B[32m    402\u001B[39m a = math.sqrt(\u001B[32m3.0\u001B[39m) * std  \u001B[38;5;66;03m# Calculate uniform bounds from standard deviation\u001B[39;00m\n\u001B[32m--> \u001B[39m\u001B[32m404\u001B[39m \u001B[38;5;28;01mreturn\u001B[39;00m \u001B[43m_no_grad_uniform_\u001B[49m\u001B[43m(\u001B[49m\u001B[43mtensor\u001B[49m\u001B[43m,\u001B[49m\u001B[43m \u001B[49m\u001B[43m-\u001B[49m\u001B[43ma\u001B[49m\u001B[43m,\u001B[49m\u001B[43m \u001B[49m\u001B[43ma\u001B[49m\u001B[43m,\u001B[49m\u001B[43m \u001B[49m\u001B[43mgenerator\u001B[49m\u001B[43m)\u001B[49m\n",
      "\u001B[36mFile \u001B[39m\u001B[32mD:\\GIT\\docling-pipelines\\.venv\\Lib\\site-packages\\torch\\nn\\init.py:17\u001B[39m, in \u001B[36m_no_grad_uniform_\u001B[39m\u001B[34m(tensor, a, b, generator)\u001B[39m\n\u001B[32m     15\u001B[39m \u001B[38;5;28;01mdef\u001B[39;00m\u001B[38;5;250m \u001B[39m\u001B[34m_no_grad_uniform_\u001B[39m(tensor, a, b, generator=\u001B[38;5;28;01mNone\u001B[39;00m):\n\u001B[32m     16\u001B[39m     \u001B[38;5;28;01mwith\u001B[39;00m torch.no_grad():\n\u001B[32m---> \u001B[39m\u001B[32m17\u001B[39m         \u001B[38;5;28;01mreturn\u001B[39;00m \u001B[43mtensor\u001B[49m\u001B[43m.\u001B[49m\u001B[43muniform_\u001B[49m\u001B[43m(\u001B[49m\u001B[43ma\u001B[49m\u001B[43m,\u001B[49m\u001B[43m \u001B[49m\u001B[43mb\u001B[49m\u001B[43m,\u001B[49m\u001B[43m \u001B[49m\u001B[43mgenerator\u001B[49m\u001B[43m=\u001B[49m\u001B[43mgenerator\u001B[49m\u001B[43m)\u001B[49m\n",
      "\u001B[31mKeyboardInterrupt\u001B[39m: "
     ]
    }
   ],
   "execution_count": 5
  },
  {
   "metadata": {},
   "cell_type": "markdown",
   "source": "- `enrich_formula_table_picture.py`:  Formula + Picture + Table enrichment.",
   "id": "8b43f73af9ec23f"
  },
  {
   "metadata": {
    "ExecuteTime": {
     "end_time": "2025-08-21T02:33:54.420885Z",
     "start_time": "2025-08-20T17:34:59.980208Z"
    }
   },
   "cell_type": "code",
   "source": "%run scripts/enrich_formula_table_picture.py",
   "id": "a20e349c847ac87a",
   "outputs": [
    {
     "name": "stdout",
     "output_type": "stream",
     "text": [
      "Processing file: Bharata Natyam Grade 9.pdf\n"
     ]
    },
    {
     "name": "stderr",
     "output_type": "stream",
     "text": [
      "D:\\GIT\\Docling-SmolDoc\\.venv\\Lib\\site-packages\\transformers\\models\\auto\\modeling_auto.py:2199: FutureWarning: The class `AutoModelForVision2Seq` is deprecated and will be removed in v5.0. Please use `AutoModelForImageTextToText` instead.\n",
      "  warnings.warn(\n"
     ]
    },
    {
     "name": "stdout",
     "output_type": "stream",
     "text": [
      "Wrote: D:\\GIT\\Docling-SmolDoc\\output\\Bharata Natyam Grade 9__formula__20250820_221429.md\n",
      "Wrote: D:\\GIT\\Docling-SmolDoc\\output\\Bharata Natyam Grade 9__formula__20250820_221429.html\n",
      "Moved Bharata Natyam Grade 9.pdf to archive\n",
      "Finished processing: Bharata Natyam Grade 9.pdf\n",
      "Processing file: BIOLOGY GRADE 9 - REVIEW 2023 3.pdf\n"
     ]
    },
    {
     "name": "stderr",
     "output_type": "stream",
     "text": [
      "D:\\GIT\\Docling-SmolDoc\\.venv\\Lib\\site-packages\\transformers\\models\\auto\\modeling_auto.py:2199: FutureWarning: The class `AutoModelForVision2Seq` is deprecated and will be removed in v5.0. Please use `AutoModelForImageTextToText` instead.\n",
      "  warnings.warn(\n"
     ]
    },
    {
     "name": "stdout",
     "output_type": "stream",
     "text": [
      "Wrote: D:\\GIT\\Docling-SmolDoc\\output\\BIOLOGY GRADE 9 - REVIEW 2023 3__formula__20250820_223232.md\n",
      "Wrote: D:\\GIT\\Docling-SmolDoc\\output\\BIOLOGY GRADE 9 - REVIEW 2023 3__formula__20250820_223232.html\n",
      "Moved BIOLOGY GRADE 9 - REVIEW 2023 3.pdf to archive\n",
      "Finished processing: BIOLOGY GRADE 9 - REVIEW 2023 3.pdf\n",
      "Processing file: Book Kathak Grade 9.pdf\n"
     ]
    },
    {
     "name": "stderr",
     "output_type": "stream",
     "text": [
      "D:\\GIT\\Docling-SmolDoc\\.venv\\Lib\\site-packages\\transformers\\models\\auto\\modeling_auto.py:2199: FutureWarning: The class `AutoModelForVision2Seq` is deprecated and will be removed in v5.0. Please use `AutoModelForImageTextToText` instead.\n",
      "  warnings.warn(\n"
     ]
    },
    {
     "name": "stdout",
     "output_type": "stream",
     "text": [
      "Wrote: D:\\GIT\\Docling-SmolDoc\\output\\Book Kathak Grade 9__formula__20250820_224941.md\n",
      "Wrote: D:\\GIT\\Docling-SmolDoc\\output\\Book Kathak Grade 9__formula__20250820_224941.html\n",
      "Moved Book Kathak Grade 9.pdf to archive\n",
      "Finished processing: Book Kathak Grade 9.pdf\n",
      "Processing file: Cambridge-International-AS-and-A-Level-Accounting-by-Ian-Harrison.pdf\n"
     ]
    },
    {
     "name": "stderr",
     "output_type": "stream",
     "text": [
      "D:\\GIT\\Docling-SmolDoc\\.venv\\Lib\\site-packages\\transformers\\models\\auto\\modeling_auto.py:2199: FutureWarning: The class `AutoModelForVision2Seq` is deprecated and will be removed in v5.0. Please use `AutoModelForImageTextToText` instead.\n",
      "  warnings.warn(\n"
     ]
    },
    {
     "name": "stdout",
     "output_type": "stream",
     "text": [
      "Wrote: D:\\GIT\\Docling-SmolDoc\\output\\Cambridge-International-AS-and-A-Level-Accounting-by-Ian-Harrison__formula__20250820_234543.md\n",
      "Wrote: D:\\GIT\\Docling-SmolDoc\\output\\Cambridge-International-AS-and-A-Level-Accounting-by-Ian-Harrison__formula__20250820_234543.html\n",
      "Moved Cambridge-International-AS-and-A-Level-Accounting-by-Ian-Harrison.pdf to archive\n",
      "Finished processing: Cambridge-International-AS-and-A-Level-Accounting-by-Ian-Harrison.pdf\n",
      "Processing file: Design and Technology Grade 9 (2023) 4.pdf\n"
     ]
    },
    {
     "name": "stderr",
     "output_type": "stream",
     "text": [
      "D:\\GIT\\Docling-SmolDoc\\.venv\\Lib\\site-packages\\transformers\\models\\auto\\modeling_auto.py:2199: FutureWarning: The class `AutoModelForVision2Seq` is deprecated and will be removed in v5.0. Please use `AutoModelForImageTextToText` instead.\n",
      "  warnings.warn(\n"
     ]
    },
    {
     "name": "stdout",
     "output_type": "stream",
     "text": [
      "Wrote: D:\\GIT\\Docling-SmolDoc\\output\\Design and Technology Grade 9 (2023) 4__formula__20250821_000353.md\n",
      "Wrote: D:\\GIT\\Docling-SmolDoc\\output\\Design and Technology Grade 9 (2023) 4__formula__20250821_000353.html\n",
      "Moved Design and Technology Grade 9 (2023) 4.pdf to archive\n",
      "Finished processing: Design and Technology Grade 9 (2023) 4.pdf\n",
      "Processing file: Drama _ Theatre 2021 - Grade 9.pdf\n"
     ]
    },
    {
     "name": "stderr",
     "output_type": "stream",
     "text": [
      "D:\\GIT\\Docling-SmolDoc\\.venv\\Lib\\site-packages\\transformers\\models\\auto\\modeling_auto.py:2199: FutureWarning: The class `AutoModelForVision2Seq` is deprecated and will be removed in v5.0. Please use `AutoModelForImageTextToText` instead.\n",
      "  warnings.warn(\n"
     ]
    },
    {
     "name": "stdout",
     "output_type": "stream",
     "text": [
      "Wrote: D:\\GIT\\Docling-SmolDoc\\output\\Drama _ Theatre 2021 - Grade 9__formula__20250821_000751.md\n",
      "Wrote: D:\\GIT\\Docling-SmolDoc\\output\\Drama _ Theatre 2021 - Grade 9__formula__20250821_000751.html\n",
      "Moved Drama _ Theatre 2021 - Grade 9.pdf to archive\n",
      "Finished processing: Drama _ Theatre 2021 - Grade 9.pdf\n",
      "Processing file: English Grade 9 - REVIEW 2021 (WEB).pdf\n"
     ]
    },
    {
     "name": "stderr",
     "output_type": "stream",
     "text": [
      "D:\\GIT\\Docling-SmolDoc\\.venv\\Lib\\site-packages\\transformers\\models\\auto\\modeling_auto.py:2199: FutureWarning: The class `AutoModelForVision2Seq` is deprecated and will be removed in v5.0. Please use `AutoModelForImageTextToText` instead.\n",
      "  warnings.warn(\n"
     ]
    },
    {
     "name": "stdout",
     "output_type": "stream",
     "text": [
      "Wrote: D:\\GIT\\Docling-SmolDoc\\output\\English Grade 9 - REVIEW 2021 (WEB)__formula__20250821_003311.md\n",
      "Wrote: D:\\GIT\\Docling-SmolDoc\\output\\English Grade 9 - REVIEW 2021 (WEB)__formula__20250821_003311.html\n",
      "Moved English Grade 9 - REVIEW 2021 (WEB).pdf to archive\n",
      "Finished processing: English Grade 9 - REVIEW 2021 (WEB).pdf\n",
      "Processing file: Food _ Textiles Studies Grade 9 (2023) 6.pdf\n"
     ]
    },
    {
     "name": "stderr",
     "output_type": "stream",
     "text": [
      "D:\\GIT\\Docling-SmolDoc\\.venv\\Lib\\site-packages\\transformers\\models\\auto\\modeling_auto.py:2199: FutureWarning: The class `AutoModelForVision2Seq` is deprecated and will be removed in v5.0. Please use `AutoModelForImageTextToText` instead.\n",
      "  warnings.warn(\n"
     ]
    },
    {
     "name": "stdout",
     "output_type": "stream",
     "text": [
      "Wrote: D:\\GIT\\Docling-SmolDoc\\output\\Food _ Textiles Studies Grade 9 (2023) 6__formula__20250821_005017.md\n",
      "Wrote: D:\\GIT\\Docling-SmolDoc\\output\\Food _ Textiles Studies Grade 9 (2023) 6__formula__20250821_005017.html\n",
      "Moved Food _ Textiles Studies Grade 9 (2023) 6.pdf to archive\n",
      "Finished processing: Food _ Textiles Studies Grade 9 (2023) 6.pdf\n",
      "Processing file: French Grade 9 (2021).pdf\n"
     ]
    },
    {
     "name": "stderr",
     "output_type": "stream",
     "text": [
      "D:\\GIT\\Docling-SmolDoc\\.venv\\Lib\\site-packages\\transformers\\models\\auto\\modeling_auto.py:2199: FutureWarning: The class `AutoModelForVision2Seq` is deprecated and will be removed in v5.0. Please use `AutoModelForImageTextToText` instead.\n",
      "  warnings.warn(\n"
     ]
    },
    {
     "name": "stdout",
     "output_type": "stream",
     "text": [
      "Wrote: D:\\GIT\\Docling-SmolDoc\\output\\French Grade 9 (2021)__formula__20250821_010430.md\n",
      "Wrote: D:\\GIT\\Docling-SmolDoc\\output\\French Grade 9 (2021)__formula__20250821_010430.html\n",
      "Moved French Grade 9 (2021).pdf to archive\n",
      "Finished processing: French Grade 9 (2021).pdf\n",
      "Processing file: French Literature (2021).pdf\n"
     ]
    },
    {
     "name": "stderr",
     "output_type": "stream",
     "text": [
      "D:\\GIT\\Docling-SmolDoc\\.venv\\Lib\\site-packages\\transformers\\models\\auto\\modeling_auto.py:2199: FutureWarning: The class `AutoModelForVision2Seq` is deprecated and will be removed in v5.0. Please use `AutoModelForImageTextToText` instead.\n",
      "  warnings.warn(\n"
     ]
    },
    {
     "name": "stdout",
     "output_type": "stream",
     "text": [
      "Wrote: D:\\GIT\\Docling-SmolDoc\\output\\French Literature (2021)__formula__20250821_010837.md\n",
      "Wrote: D:\\GIT\\Docling-SmolDoc\\output\\French Literature (2021)__formula__20250821_010837.html\n",
      "Moved French Literature (2021).pdf to archive\n",
      "Finished processing: French Literature (2021).pdf\n",
      "Processing file: ICT G9 Main_Reprint 2021.pdf\n"
     ]
    },
    {
     "name": "stderr",
     "output_type": "stream",
     "text": [
      "D:\\GIT\\Docling-SmolDoc\\.venv\\Lib\\site-packages\\transformers\\models\\auto\\modeling_auto.py:2199: FutureWarning: The class `AutoModelForVision2Seq` is deprecated and will be removed in v5.0. Please use `AutoModelForImageTextToText` instead.\n",
      "  warnings.warn(\n"
     ]
    },
    {
     "name": "stdout",
     "output_type": "stream",
     "text": [
      "Wrote: D:\\GIT\\Docling-SmolDoc\\output\\ICT G9 Main_Reprint 2021__formula__20250821_014954.md\n",
      "Wrote: D:\\GIT\\Docling-SmolDoc\\output\\ICT G9 Main_Reprint 2021__formula__20250821_014954.html\n",
      "Moved ICT G9 Main_Reprint 2021.pdf to archive\n",
      "Finished processing: ICT G9 Main_Reprint 2021.pdf\n",
      "Processing file: KreolMorisien_G9_Mainstream.pdf\n"
     ]
    },
    {
     "name": "stderr",
     "output_type": "stream",
     "text": [
      "D:\\GIT\\Docling-SmolDoc\\.venv\\Lib\\site-packages\\transformers\\models\\auto\\modeling_auto.py:2199: FutureWarning: The class `AutoModelForVision2Seq` is deprecated and will be removed in v5.0. Please use `AutoModelForImageTextToText` instead.\n",
      "  warnings.warn(\n"
     ]
    },
    {
     "name": "stdout",
     "output_type": "stream",
     "text": [
      "Wrote: D:\\GIT\\Docling-SmolDoc\\output\\KreolMorisien_G9_Mainstream__formula__20250821_020500.md\n",
      "Wrote: D:\\GIT\\Docling-SmolDoc\\output\\KreolMorisien_G9_Mainstream__formula__20250821_020500.html\n",
      "Moved KreolMorisien_G9_Mainstream.pdf to archive\n",
      "Finished processing: KreolMorisien_G9_Mainstream.pdf\n",
      "Processing file: Kuchipudi Grade 9.pdf\n"
     ]
    },
    {
     "name": "stderr",
     "output_type": "stream",
     "text": [
      "D:\\GIT\\Docling-SmolDoc\\.venv\\Lib\\site-packages\\transformers\\models\\auto\\modeling_auto.py:2199: FutureWarning: The class `AutoModelForVision2Seq` is deprecated and will be removed in v5.0. Please use `AutoModelForImageTextToText` instead.\n",
      "  warnings.warn(\n"
     ]
    },
    {
     "name": "stdout",
     "output_type": "stream",
     "text": [
      "Wrote: D:\\GIT\\Docling-SmolDoc\\output\\Kuchipudi Grade 9__formula__20250821_023122.md\n",
      "Wrote: D:\\GIT\\Docling-SmolDoc\\output\\Kuchipudi Grade 9__formula__20250821_023122.html\n",
      "Moved Kuchipudi Grade 9.pdf to archive\n",
      "Finished processing: Kuchipudi Grade 9.pdf\n",
      "Processing file: LIFESKILLS G9-Educator's Book-REPRINT_2021.pdf\n"
     ]
    },
    {
     "name": "stderr",
     "output_type": "stream",
     "text": [
      "D:\\GIT\\Docling-SmolDoc\\.venv\\Lib\\site-packages\\transformers\\models\\auto\\modeling_auto.py:2199: FutureWarning: The class `AutoModelForVision2Seq` is deprecated and will be removed in v5.0. Please use `AutoModelForImageTextToText` instead.\n",
      "  warnings.warn(\n"
     ]
    },
    {
     "name": "stdout",
     "output_type": "stream",
     "text": [
      "Wrote: D:\\GIT\\Docling-SmolDoc\\output\\LIFESKILLS G9-Educator's Book-REPRINT_2021__formula__20250821_023751.md\n",
      "Wrote: D:\\GIT\\Docling-SmolDoc\\output\\LIFESKILLS G9-Educator's Book-REPRINT_2021__formula__20250821_023751.html\n",
      "Moved LIFESKILLS G9-Educator's Book-REPRINT_2021.pdf to archive\n",
      "Finished processing: LIFESKILLS G9-Educator's Book-REPRINT_2021.pdf\n",
      "Processing file: Literature in English - GRADE 9 (2021).pdf\n"
     ]
    },
    {
     "name": "stderr",
     "output_type": "stream",
     "text": [
      "D:\\GIT\\Docling-SmolDoc\\.venv\\Lib\\site-packages\\transformers\\models\\auto\\modeling_auto.py:2199: FutureWarning: The class `AutoModelForVision2Seq` is deprecated and will be removed in v5.0. Please use `AutoModelForImageTextToText` instead.\n",
      "  warnings.warn(\n"
     ]
    },
    {
     "name": "stdout",
     "output_type": "stream",
     "text": [
      "Wrote: D:\\GIT\\Docling-SmolDoc\\output\\Literature in English - GRADE 9 (2021)__formula__20250821_024302.md\n",
      "Wrote: D:\\GIT\\Docling-SmolDoc\\output\\Literature in English - GRADE 9 (2021)__formula__20250821_024302.html\n",
      "Moved Literature in English - GRADE 9 (2021).pdf to archive\n",
      "Finished processing: Literature in English - GRADE 9 (2021).pdf\n",
      "Processing file: PE Main G9-REPRINT 2021.pdf\n"
     ]
    },
    {
     "name": "stderr",
     "output_type": "stream",
     "text": [
      "D:\\GIT\\Docling-SmolDoc\\.venv\\Lib\\site-packages\\transformers\\models\\auto\\modeling_auto.py:2199: FutureWarning: The class `AutoModelForVision2Seq` is deprecated and will be removed in v5.0. Please use `AutoModelForImageTextToText` instead.\n",
      "  warnings.warn(\n"
     ]
    },
    {
     "name": "stdout",
     "output_type": "stream",
     "text": [
      "Wrote: D:\\GIT\\Docling-SmolDoc\\output\\PE Main G9-REPRINT 2021__formula__20250821_033553.md\n",
      "Wrote: D:\\GIT\\Docling-SmolDoc\\output\\PE Main G9-REPRINT 2021__formula__20250821_033553.html\n",
      "Moved PE Main G9-REPRINT 2021.pdf to archive\n",
      "Finished processing: PE Main G9-REPRINT 2021.pdf\n",
      "Processing file: PHYSICS Grade 9 Mainstream WEB-5.11.24.pdf\n"
     ]
    },
    {
     "name": "stderr",
     "output_type": "stream",
     "text": [
      "D:\\GIT\\Docling-SmolDoc\\.venv\\Lib\\site-packages\\transformers\\models\\auto\\modeling_auto.py:2199: FutureWarning: The class `AutoModelForVision2Seq` is deprecated and will be removed in v5.0. Please use `AutoModelForImageTextToText` instead.\n",
      "  warnings.warn(\n"
     ]
    },
    {
     "name": "stdout",
     "output_type": "stream",
     "text": [
      "Wrote: D:\\GIT\\Docling-SmolDoc\\output\\PHYSICS Grade 9 Mainstream WEB-5.11.24__formula__20250821_035648.md\n",
      "Wrote: D:\\GIT\\Docling-SmolDoc\\output\\PHYSICS Grade 9 Mainstream WEB-5.11.24__formula__20250821_035648.html\n",
      "Moved PHYSICS Grade 9 Mainstream WEB-5.11.24.pdf to archive\n",
      "Finished processing: PHYSICS Grade 9 Mainstream WEB-5.11.24.pdf\n",
      "Processing file: Sexuality_G9_webversion[1].pdf\n"
     ]
    },
    {
     "name": "stderr",
     "output_type": "stream",
     "text": [
      "D:\\GIT\\Docling-SmolDoc\\.venv\\Lib\\site-packages\\transformers\\models\\auto\\modeling_auto.py:2199: FutureWarning: The class `AutoModelForVision2Seq` is deprecated and will be removed in v5.0. Please use `AutoModelForImageTextToText` instead.\n",
      "  warnings.warn(\n"
     ]
    },
    {
     "name": "stdout",
     "output_type": "stream",
     "text": [
      "Wrote: D:\\GIT\\Docling-SmolDoc\\output\\Sexuality_G9_webversion[1]__formula__20250821_040254.md\n",
      "Wrote: D:\\GIT\\Docling-SmolDoc\\output\\Sexuality_G9_webversion[1]__formula__20250821_040254.html\n",
      "Moved Sexuality_G9_webversion[1].pdf to archive\n",
      "Finished processing: Sexuality_G9_webversion[1].pdf\n",
      "Processing file: Sitar Grade 9.pdf\n"
     ]
    },
    {
     "name": "stderr",
     "output_type": "stream",
     "text": [
      "D:\\GIT\\Docling-SmolDoc\\.venv\\Lib\\site-packages\\transformers\\models\\auto\\modeling_auto.py:2199: FutureWarning: The class `AutoModelForVision2Seq` is deprecated and will be removed in v5.0. Please use `AutoModelForImageTextToText` instead.\n",
      "  warnings.warn(\n"
     ]
    },
    {
     "name": "stdout",
     "output_type": "stream",
     "text": [
      "Wrote: D:\\GIT\\Docling-SmolDoc\\output\\Sitar Grade 9__formula__20250821_042423.md\n",
      "Wrote: D:\\GIT\\Docling-SmolDoc\\output\\Sitar Grade 9__formula__20250821_042423.html\n",
      "Moved Sitar Grade 9.pdf to archive\n",
      "Finished processing: Sitar Grade 9.pdf\n",
      "Processing file: SMS Grade 9 Suggested answers post Workshop Feb 2020_HD.pdf\n"
     ]
    },
    {
     "name": "stderr",
     "output_type": "stream",
     "text": [
      "D:\\GIT\\Docling-SmolDoc\\.venv\\Lib\\site-packages\\transformers\\models\\auto\\modeling_auto.py:2199: FutureWarning: The class `AutoModelForVision2Seq` is deprecated and will be removed in v5.0. Please use `AutoModelForImageTextToText` instead.\n",
      "  warnings.warn(\n"
     ]
    },
    {
     "name": "stdout",
     "output_type": "stream",
     "text": [
      "Wrote: D:\\GIT\\Docling-SmolDoc\\output\\SMS Grade 9 Suggested answers post Workshop Feb 2020_HD__formula__20250821_042456.md\n",
      "Wrote: D:\\GIT\\Docling-SmolDoc\\output\\SMS Grade 9 Suggested answers post Workshop Feb 2020_HD__formula__20250821_042456.html\n",
      "Moved SMS Grade 9 Suggested answers post Workshop Feb 2020_HD.pdf to archive\n",
      "Finished processing: SMS Grade 9 Suggested answers post Workshop Feb 2020_HD.pdf\n",
      "Processing file: SMS Grade 9 Suggested answers post Workshop Feb 2020_HD_2.pdf\n"
     ]
    },
    {
     "name": "stderr",
     "output_type": "stream",
     "text": [
      "D:\\GIT\\Docling-SmolDoc\\.venv\\Lib\\site-packages\\transformers\\models\\auto\\modeling_auto.py:2199: FutureWarning: The class `AutoModelForVision2Seq` is deprecated and will be removed in v5.0. Please use `AutoModelForImageTextToText` instead.\n",
      "  warnings.warn(\n"
     ]
    },
    {
     "name": "stdout",
     "output_type": "stream",
     "text": [
      "Wrote: D:\\GIT\\Docling-SmolDoc\\output\\SMS Grade 9 Suggested answers post Workshop Feb 2020_HD_2__formula__20250821_042522.md\n",
      "Wrote: D:\\GIT\\Docling-SmolDoc\\output\\SMS Grade 9 Suggested answers post Workshop Feb 2020_HD_2__formula__20250821_042522.html\n",
      "Moved SMS Grade 9 Suggested answers post Workshop Feb 2020_HD_2.pdf to archive\n",
      "Finished processing: SMS Grade 9 Suggested answers post Workshop Feb 2020_HD_2.pdf\n",
      "Processing file: SMS_G9_rep2022.pdf\n"
     ]
    },
    {
     "name": "stderr",
     "output_type": "stream",
     "text": [
      "D:\\GIT\\Docling-SmolDoc\\.venv\\Lib\\site-packages\\transformers\\models\\auto\\modeling_auto.py:2199: FutureWarning: The class `AutoModelForVision2Seq` is deprecated and will be removed in v5.0. Please use `AutoModelForImageTextToText` instead.\n",
      "  warnings.warn(\n"
     ]
    },
    {
     "name": "stdout",
     "output_type": "stream",
     "text": [
      "Wrote: D:\\GIT\\Docling-SmolDoc\\output\\SMS_G9_rep2022__formula__20250821_045515.md\n",
      "Wrote: D:\\GIT\\Docling-SmolDoc\\output\\SMS_G9_rep2022__formula__20250821_045515.html\n",
      "Moved SMS_G9_rep2022.pdf to archive\n",
      "Finished processing: SMS_G9_rep2022.pdf\n",
      "Processing file: Tabla Grade 9.pdf\n"
     ]
    },
    {
     "name": "stderr",
     "output_type": "stream",
     "text": [
      "D:\\GIT\\Docling-SmolDoc\\.venv\\Lib\\site-packages\\transformers\\models\\auto\\modeling_auto.py:2199: FutureWarning: The class `AutoModelForVision2Seq` is deprecated and will be removed in v5.0. Please use `AutoModelForImageTextToText` instead.\n",
      "  warnings.warn(\n"
     ]
    },
    {
     "name": "stdout",
     "output_type": "stream",
     "text": [
      "Wrote: D:\\GIT\\Docling-SmolDoc\\output\\Tabla Grade 9__formula__20250821_054746.md\n",
      "Wrote: D:\\GIT\\Docling-SmolDoc\\output\\Tabla Grade 9__formula__20250821_054746.html\n",
      "Moved Tabla Grade 9.pdf to archive\n",
      "Finished processing: Tabla Grade 9.pdf\n",
      "Processing file: Vocal Hindustani Grade 9.pdf\n"
     ]
    },
    {
     "name": "stderr",
     "output_type": "stream",
     "text": [
      "D:\\GIT\\Docling-SmolDoc\\.venv\\Lib\\site-packages\\transformers\\models\\auto\\modeling_auto.py:2199: FutureWarning: The class `AutoModelForVision2Seq` is deprecated and will be removed in v5.0. Please use `AutoModelForImageTextToText` instead.\n",
      "  warnings.warn(\n"
     ]
    },
    {
     "name": "stdout",
     "output_type": "stream",
     "text": [
      "Wrote: D:\\GIT\\Docling-SmolDoc\\output\\Vocal Hindustani Grade 9__formula__20250821_061149.md\n",
      "Wrote: D:\\GIT\\Docling-SmolDoc\\output\\Vocal Hindustani Grade 9__formula__20250821_061149.html\n",
      "Moved Vocal Hindustani Grade 9.pdf to archive\n",
      "Finished processing: Vocal Hindustani Grade 9.pdf\n",
      "Processing file: WEB REPRINT BEE G9.pdf\n"
     ]
    },
    {
     "name": "stderr",
     "output_type": "stream",
     "text": [
      "D:\\GIT\\Docling-SmolDoc\\.venv\\Lib\\site-packages\\transformers\\models\\auto\\modeling_auto.py:2199: FutureWarning: The class `AutoModelForVision2Seq` is deprecated and will be removed in v5.0. Please use `AutoModelForImageTextToText` instead.\n",
      "  warnings.warn(\n"
     ]
    },
    {
     "name": "stdout",
     "output_type": "stream",
     "text": [
      "Wrote: D:\\GIT\\Docling-SmolDoc\\output\\WEB REPRINT BEE G9__formula__20250821_063351.md\n",
      "Wrote: D:\\GIT\\Docling-SmolDoc\\output\\WEB REPRINT BEE G9__formula__20250821_063351.html\n",
      "Moved WEB REPRINT BEE G9.pdf to archive\n",
      "Finished processing: WEB REPRINT BEE G9.pdf\n"
     ]
    }
   ],
   "execution_count": 1
  },
  {
   "cell_type": "markdown",
   "metadata": {},
   "source": [
    "## 2) One-pass combination: picture description + formula enrichment + contextual chunkings + LLM enrichment options\n",
    "- Toggle Formula/Picture in the cell below.\n",
    "- Select provider via PROVIDER in .env (gemini/gpt).\n",
    "- Produces TXT/JSONL of enriched chunks (structured)."
   ],
   "id": "7424f9f38dadf87f"
  },
  {
   "cell_type": "code",
   "metadata": {
    "ExecuteTime": {
     "end_time": "2025-08-19T19:00:11.604128Z",
     "start_time": "2025-08-19T16:28:50.971426Z"
    }
   },
   "source": [
    "# Toggles (set True/False or override via env if you prefer)\n",
    "DO_FORMULA = True   # <- set False to disable Formula Understanding\n",
    "DO_PICTURE = True   # <- set False to disable Picture Description\n",
    "DO_LLM = False       # <- set False to disable LLM enrichment\n",
    "\n",
    "print('DO_FORMULA:', DO_FORMULA, '| DO_PICTURE:', DO_PICTURE, '| DO_LLM:', DO_LLM)\n",
    "\n",
    "# Check CUDA availability and set device\n",
    "import torch\n",
    "if torch.cuda.is_available():\n",
    "    device = 'cuda'\n",
    "    print(f'CUDA is available! Using GPU: {torch.cuda.get_device_name(0)}')\n",
    "    print(f'CUDA version: {torch.version.cuda}')\n",
    "    # Set CUDA device for PyTorch\n",
    "    torch.cuda.set_device(0)\n",
    "else:\n",
    "    device = 'cpu'\n",
    "    print('CUDA not available, using CPU')\n",
    "\n",
    "from datetime import datetime\n",
    "from docling.document_converter import DocumentConverter, PdfFormatOption\n",
    "from docling.datamodel.pipeline_options import PdfPipelineOptions\n",
    "from docling.datamodel.base_models import InputFormat\n",
    "from docling.chunking import HybridChunker\n",
    "\n",
    "# Configure Docling pipeline based on toggles\n",
    "pdf_opts = PdfPipelineOptions()\n",
    "pdf_opts.do_formula_enrichment = bool(DO_FORMULA)\n",
    "pdf_opts.do_picture_description = bool(DO_PICTURE)\n",
    "# Tip: you could choose a picture description preset here if desired\n",
    "# from docling.datamodel.pipeline_options import smolvlm_picture_description\n",
    "# pdf_opts.picture_description_options = smolvlm_picture_description\n",
    "\n",
    "converter = DocumentConverter(\n",
    "    format_options={InputFormat.PDF: PdfFormatOption(pipeline_options=pdf_opts)}\n",
    ")\n",
    "\n",
    "# Pick a PDF\n",
    "pdf_path = next((p for p in src_dir.glob('*.pdf')), None)\n",
    "assert pdf_path is not None, 'Put a PDF into source/'\n",
    "\n",
    "dl_doc = converter.convert(str(pdf_path)).document\n",
    "\n",
    "# Chunk\n",
    "chunker = HybridChunker()\n",
    "chunks = list(chunker.chunk(dl_doc=dl_doc))\n",
    "\n",
    "# LLM enrichment (conditional on DO_LLM)\n",
    "if DO_LLM:\n",
    "    # Create selected LLM client\n",
    "    if PROVIDER == 'gpt':\n",
    "        from clients.openai_client import OpenAIClient, EnrichedChunk\n",
    "        llm = OpenAIClient(model=OPENAI_MODEL)\n",
    "    elif PROVIDER == 'gemini':\n",
    "        from clients.gemini_client import GeminiClient, EnrichedChunk\n",
    "        llm = GeminiClient(model=GEMINI_MODEL)\n",
    "    else:\n",
    "        raise ValueError(f'Unsupported PROVIDER: {PROVIDER}')\n",
    "\n",
    "# Write outputs\n",
    "ts = datetime.now().strftime('%Y%m%d_%H%M%S')\n",
    "base = f'{pdf_path.stem}__combo_llm__{PROVIDER}__{ts}' if DO_LLM else f'{pdf_path.stem}__combo_basic__{ts}'\n",
    "txt_path = out_dir / f'{base}.txt'\n",
    "jsonl_path = out_dir / f'{base}.jsonl'\n",
    "\n",
    "import json\n",
    "with txt_path.open('w', encoding='utf-8') as f_txt, jsonl_path.open('w', encoding='utf-8') as f_jsonl:\n",
    "    for i, ch in enumerate(chunks):\n",
    "        raw = ch.text or ''\n",
    "        structural = chunker.contextualize(chunk=ch)\n",
    "        \n",
    "        if DO_LLM:\n",
    "            enriched = llm.enrich_chunk(raw, context=structural)  # Pydantic validated\n",
    "            # TXT with LLM enrichment\n",
    "            f_txt.write(f'=== {i} ===\\n')\n",
    "            f_txt.write('-- title --\\n' + (enriched.title or '') + '\\n')\n",
    "            f_txt.write('-- summary --\\n' + enriched.summary + '\\n')\n",
    "            f_txt.write('-- key_points --\\n' + '\\n'.join('- ' + kp for kp in enriched.key_points) + '\\n')\n",
    "            f_txt.write('-- enriched_text --\\n' + enriched.enriched_text + '\\n\\n')\n",
    "            # JSONL with LLM enrichment\n",
    "            f_jsonl.write(json.dumps({\n",
    "                'index': i,\n",
    "                'title': enriched.title,\n",
    "                'summary': enriched.summary,\n",
    "                'key_points': enriched.key_points,\n",
    "                'enriched_text': enriched.enriched_text,\n",
    "                'path': getattr(ch, 'path', None),\n",
    "                'id': getattr(ch, 'id', None),\n",
    "            }, ensure_ascii=False) + '\\n')\n",
    "        else:\n",
    "            # Basic output without LLM enrichment\n",
    "            f_txt.write(f'=== {i} ===\\n')\n",
    "            f_txt.write('-- raw_text --\\n' + raw + '\\n')\n",
    "            f_txt.write('-- structural_context --\\n' + structural + '\\n\\n')\n",
    "            # JSONL without LLM enrichment\n",
    "            f_jsonl.write(json.dumps({\n",
    "                'index': i,\n",
    "                'raw_text': raw,\n",
    "                'structural_context': structural,\n",
    "                'path': getattr(ch, 'path', None),\n",
    "                'id': getattr(ch, 'id', None),\n",
    "            }, ensure_ascii=False) + '\\n')\n",
    "\n",
    "print('Wrote:', txt_path)\n",
    "print('Wrote:', jsonl_path)"
   ],
   "id": "bd36358565daed80",
   "outputs": [
    {
     "name": "stdout",
     "output_type": "stream",
     "text": [
      "DO_FORMULA: True | DO_PICTURE: True | DO_LLM: False\n",
      "CUDA is available! Using GPU: NVIDIA GeForce RTX 4050 Laptop GPU\n",
      "CUDA version: 12.4\n"
     ]
    },
    {
     "name": "stderr",
     "output_type": "stream",
     "text": [
      "Xet Storage is enabled for this repo, but the 'hf_xet' package is not installed. Falling back to regular HTTP download. For better performance, install the package with: `pip install huggingface_hub[hf_xet]` or `pip install hf_xet`\n",
      "Xet Storage is enabled for this repo, but the 'hf_xet' package is not installed. Falling back to regular HTTP download. For better performance, install the package with: `pip install huggingface_hub[hf_xet]` or `pip install hf_xet`\n",
      "Xet Storage is enabled for this repo, but the 'hf_xet' package is not installed. Falling back to regular HTTP download. For better performance, install the package with: `pip install huggingface_hub[hf_xet]` or `pip install hf_xet`\n",
      "Xet Storage is enabled for this repo, but the 'hf_xet' package is not installed. Falling back to regular HTTP download. For better performance, install the package with: `pip install huggingface_hub[hf_xet]` or `pip install hf_xet`\n",
      "Xet Storage is enabled for this repo, but the 'hf_xet' package is not installed. Falling back to regular HTTP download. For better performance, install the package with: `pip install huggingface_hub[hf_xet]` or `pip install hf_xet`\n",
      "Xet Storage is enabled for this repo, but the 'hf_xet' package is not installed. Falling back to regular HTTP download. For better performance, install the package with: `pip install huggingface_hub[hf_xet]` or `pip install hf_xet`\n",
      "Xet Storage is enabled for this repo, but the 'hf_xet' package is not installed. Falling back to regular HTTP download. For better performance, install the package with: `pip install huggingface_hub[hf_xet]` or `pip install hf_xet`\n",
      "Xet Storage is enabled for this repo, but the 'hf_xet' package is not installed. Falling back to regular HTTP download. For better performance, install the package with: `pip install huggingface_hub[hf_xet]` or `pip install hf_xet`\n",
      "Xet Storage is enabled for this repo, but the 'hf_xet' package is not installed. Falling back to regular HTTP download. For better performance, install the package with: `pip install huggingface_hub[hf_xet]` or `pip install hf_xet`\n",
      "Xet Storage is enabled for this repo, but the 'hf_xet' package is not installed. Falling back to regular HTTP download. For better performance, install the package with: `pip install huggingface_hub[hf_xet]` or `pip install hf_xet`\n",
      "Xet Storage is enabled for this repo, but the 'hf_xet' package is not installed. Falling back to regular HTTP download. For better performance, install the package with: `pip install huggingface_hub[hf_xet]` or `pip install hf_xet`\n",
      "Xet Storage is enabled for this repo, but the 'hf_xet' package is not installed. Falling back to regular HTTP download. For better performance, install the package with: `pip install huggingface_hub[hf_xet]` or `pip install hf_xet`\n",
      "Xet Storage is enabled for this repo, but the 'hf_xet' package is not installed. Falling back to regular HTTP download. For better performance, install the package with: `pip install huggingface_hub[hf_xet]` or `pip install hf_xet`\n",
      "Xet Storage is enabled for this repo, but the 'hf_xet' package is not installed. Falling back to regular HTTP download. For better performance, install the package with: `pip install huggingface_hub[hf_xet]` or `pip install hf_xet`\n",
      "Xet Storage is enabled for this repo, but the 'hf_xet' package is not installed. Falling back to regular HTTP download. For better performance, install the package with: `pip install huggingface_hub[hf_xet]` or `pip install hf_xet`\n",
      "Xet Storage is enabled for this repo, but the 'hf_xet' package is not installed. Falling back to regular HTTP download. For better performance, install the package with: `pip install huggingface_hub[hf_xet]` or `pip install hf_xet`\n",
      "Xet Storage is enabled for this repo, but the 'hf_xet' package is not installed. Falling back to regular HTTP download. For better performance, install the package with: `pip install huggingface_hub[hf_xet]` or `pip install hf_xet`\n",
      "Xet Storage is enabled for this repo, but the 'hf_xet' package is not installed. Falling back to regular HTTP download. For better performance, install the package with: `pip install huggingface_hub[hf_xet]` or `pip install hf_xet`\n",
      "Xet Storage is enabled for this repo, but the 'hf_xet' package is not installed. Falling back to regular HTTP download. For better performance, install the package with: `pip install huggingface_hub[hf_xet]` or `pip install hf_xet`\n",
      "Xet Storage is enabled for this repo, but the 'hf_xet' package is not installed. Falling back to regular HTTP download. For better performance, install the package with: `pip install huggingface_hub[hf_xet]` or `pip install hf_xet`\n",
      "D:\\GIT\\Docling-SmolDoc\\.venv\\Lib\\site-packages\\transformers\\models\\auto\\modeling_auto.py:2199: FutureWarning: The class `AutoModelForVision2Seq` is deprecated and will be removed in v5.0. Please use `AutoModelForImageTextToText` instead.\n",
      "  warnings.warn(\n"
     ]
    },
    {
     "ename": "KeyboardInterrupt",
     "evalue": "",
     "output_type": "error",
     "traceback": [
      "\u001B[31m---------------------------------------------------------------------------\u001B[39m",
      "\u001B[31mKeyboardInterrupt\u001B[39m                         Traceback (most recent call last)",
      "\u001B[36mFile \u001B[39m\u001B[32mD:\\GIT\\Docling-SmolDoc\\.venv\\Lib\\site-packages\\docling\\pipeline\\base_pipeline.py:52\u001B[39m, in \u001B[36mBasePipeline.execute\u001B[39m\u001B[34m(self, in_doc, raises_on_error)\u001B[39m\n\u001B[32m     51\u001B[39m \u001B[38;5;66;03m# From this stage, all operations should rely only on conv_res.output\u001B[39;00m\n\u001B[32m---> \u001B[39m\u001B[32m52\u001B[39m conv_res = \u001B[38;5;28;43mself\u001B[39;49m\u001B[43m.\u001B[49m\u001B[43m_enrich_document\u001B[49m\u001B[43m(\u001B[49m\u001B[43mconv_res\u001B[49m\u001B[43m)\u001B[49m\n\u001B[32m     53\u001B[39m conv_res.status = \u001B[38;5;28mself\u001B[39m._determine_status(conv_res)\n",
      "\u001B[36mFile \u001B[39m\u001B[32mD:\\GIT\\Docling-SmolDoc\\.venv\\Lib\\site-packages\\docling\\pipeline\\base_pipeline.py:87\u001B[39m, in \u001B[36mBasePipeline._enrich_document\u001B[39m\u001B[34m(self, conv_res)\u001B[39m\n\u001B[32m     83\u001B[39m \u001B[38;5;28;01mfor\u001B[39;00m element_batch \u001B[38;5;129;01min\u001B[39;00m chunkify(\n\u001B[32m     84\u001B[39m     _prepare_elements(conv_res, model),\n\u001B[32m     85\u001B[39m     model.elements_batch_size,\n\u001B[32m     86\u001B[39m ):\n\u001B[32m---> \u001B[39m\u001B[32m87\u001B[39m \u001B[43m    \u001B[49m\u001B[38;5;28;43;01mfor\u001B[39;49;00m\u001B[43m \u001B[49m\u001B[43melement\u001B[49m\u001B[43m \u001B[49m\u001B[38;5;129;43;01min\u001B[39;49;00m\u001B[43m \u001B[49m\u001B[43mmodel\u001B[49m\u001B[43m(\u001B[49m\n\u001B[32m     88\u001B[39m \u001B[43m        \u001B[49m\u001B[43mdoc\u001B[49m\u001B[43m=\u001B[49m\u001B[43mconv_res\u001B[49m\u001B[43m.\u001B[49m\u001B[43mdocument\u001B[49m\u001B[43m,\u001B[49m\u001B[43m \u001B[49m\u001B[43melement_batch\u001B[49m\u001B[43m=\u001B[49m\u001B[43melement_batch\u001B[49m\n\u001B[32m     89\u001B[39m \u001B[43m    \u001B[49m\u001B[43m)\u001B[49m\u001B[43m:\u001B[49m\u001B[43m  \u001B[49m\u001B[38;5;66;43;03m# Must exhaust!\u001B[39;49;00m\n\u001B[32m     90\u001B[39m \u001B[43m        \u001B[49m\u001B[38;5;28;43;01mpass\u001B[39;49;00m\n",
      "\u001B[36mFile \u001B[39m\u001B[32mD:\\GIT\\Docling-SmolDoc\\.venv\\Lib\\site-packages\\docling\\models\\code_formula_model.py:318\u001B[39m, in \u001B[36mCodeFormulaModel.__call__\u001B[39m\u001B[34m(self, doc, element_batch)\u001B[39m\n\u001B[32m    314\u001B[39m     images.append(\n\u001B[32m    315\u001B[39m         \u001B[38;5;28mself\u001B[39m._pad_with_most_frequent_edge_color(el.image, (\u001B[32m20\u001B[39m, \u001B[32m10\u001B[39m, \u001B[32m20\u001B[39m, \u001B[32m10\u001B[39m))\n\u001B[32m    316\u001B[39m     )\n\u001B[32m--> \u001B[39m\u001B[32m318\u001B[39m outputs = \u001B[38;5;28;43mself\u001B[39;49m\u001B[43m.\u001B[49m\u001B[43mcode_formula_model\u001B[49m\u001B[43m.\u001B[49m\u001B[43mpredict\u001B[49m\u001B[43m(\u001B[49m\u001B[43mimages\u001B[49m\u001B[43m,\u001B[49m\u001B[43m \u001B[49m\u001B[43mlabels\u001B[49m\u001B[43m)\u001B[49m\n\u001B[32m    320\u001B[39m \u001B[38;5;28;01mfor\u001B[39;00m item, output \u001B[38;5;129;01min\u001B[39;00m \u001B[38;5;28mzip\u001B[39m(elements, outputs):\n",
      "\u001B[36mFile \u001B[39m\u001B[32mD:\\GIT\\Docling-SmolDoc\\.venv\\Lib\\site-packages\\torch\\utils\\_contextlib.py:116\u001B[39m, in \u001B[36mcontext_decorator.<locals>.decorate_context\u001B[39m\u001B[34m(*args, **kwargs)\u001B[39m\n\u001B[32m    115\u001B[39m \u001B[38;5;28;01mwith\u001B[39;00m ctx_factory():\n\u001B[32m--> \u001B[39m\u001B[32m116\u001B[39m     \u001B[38;5;28;01mreturn\u001B[39;00m \u001B[43mfunc\u001B[49m\u001B[43m(\u001B[49m\u001B[43m*\u001B[49m\u001B[43margs\u001B[49m\u001B[43m,\u001B[49m\u001B[43m \u001B[49m\u001B[43m*\u001B[49m\u001B[43m*\u001B[49m\u001B[43mkwargs\u001B[49m\u001B[43m)\u001B[49m\n",
      "\u001B[36mFile \u001B[39m\u001B[32mD:\\GIT\\Docling-SmolDoc\\.venv\\Lib\\site-packages\\docling_ibm_models\\code_formula_model\\code_formula_predictor.py:274\u001B[39m, in \u001B[36mCodeFormulaPredictor.predict\u001B[39m\u001B[34m(self, images, labels, temperature)\u001B[39m\n\u001B[32m    273\u001B[39m     \u001B[38;5;28;01mwith\u001B[39;00m torch.autocast(device_type=\u001B[38;5;28mself\u001B[39m._device, dtype=torch.bfloat16):\n\u001B[32m--> \u001B[39m\u001B[32m274\u001B[39m         output_ids_list = \u001B[38;5;28;43mself\u001B[39;49m\u001B[43m.\u001B[49m\u001B[43m_model\u001B[49m\u001B[43m.\u001B[49m\u001B[43mgenerate\u001B[49m\u001B[43m(\u001B[49m\n\u001B[32m    275\u001B[39m \u001B[43m            \u001B[49m\u001B[43mprompt_ids\u001B[49m\u001B[43m,\u001B[49m\n\u001B[32m    276\u001B[39m \u001B[43m            \u001B[49m\u001B[43mimages\u001B[49m\u001B[43m=\u001B[49m\u001B[43mimages_tensor\u001B[49m\u001B[43m,\u001B[49m\n\u001B[32m    277\u001B[39m \u001B[43m            \u001B[49m\u001B[43mdo_sample\u001B[49m\u001B[43m=\u001B[49m\u001B[43mdo_sample\u001B[49m\u001B[43m,\u001B[49m\n\u001B[32m    278\u001B[39m \u001B[43m            \u001B[49m\u001B[43mtemperature\u001B[49m\u001B[43m=\u001B[49m\u001B[43mtemperature\u001B[49m\u001B[43m,\u001B[49m\n\u001B[32m    279\u001B[39m \u001B[43m            \u001B[49m\u001B[43mmax_new_tokens\u001B[49m\u001B[43m=\u001B[49m\u001B[32;43m4096\u001B[39;49m\u001B[43m \u001B[49m\u001B[43m-\u001B[49m\u001B[43m \u001B[49m\u001B[43mprompt_ids\u001B[49m\u001B[43m.\u001B[49m\u001B[43mshape\u001B[49m\u001B[43m[\u001B[49m\u001B[32;43m1\u001B[39;49m\u001B[43m]\u001B[49m\u001B[43m,\u001B[49m\n\u001B[32m    280\u001B[39m \u001B[43m            \u001B[49m\u001B[43muse_cache\u001B[49m\u001B[43m=\u001B[49m\u001B[38;5;28;43;01mTrue\u001B[39;49;00m\u001B[43m,\u001B[49m\n\u001B[32m    281\u001B[39m \u001B[43m            \u001B[49m\u001B[43mno_repeat_ngram_size\u001B[49m\u001B[43m=\u001B[49m\u001B[32;43m200\u001B[39;49m\u001B[43m,\u001B[49m\n\u001B[32m    282\u001B[39m \u001B[43m            \u001B[49m\u001B[43mstopping_criteria\u001B[49m\u001B[43m=\u001B[49m\u001B[43mstopping_criteria\u001B[49m\u001B[43m,\u001B[49m\n\u001B[32m    283\u001B[39m \u001B[43m        \u001B[49m\u001B[43m)\u001B[49m\n\u001B[32m    285\u001B[39m outputs = \u001B[38;5;28mself\u001B[39m._tokenizer.batch_decode(\n\u001B[32m    286\u001B[39m     output_ids_list[:, prompt_ids.shape[\u001B[32m1\u001B[39m] :], skip_special_tokens=\u001B[38;5;28;01mTrue\u001B[39;00m\n\u001B[32m    287\u001B[39m )\n",
      "\u001B[36mFile \u001B[39m\u001B[32mD:\\GIT\\Docling-SmolDoc\\.venv\\Lib\\site-packages\\torch\\utils\\_contextlib.py:116\u001B[39m, in \u001B[36mcontext_decorator.<locals>.decorate_context\u001B[39m\u001B[34m(*args, **kwargs)\u001B[39m\n\u001B[32m    115\u001B[39m \u001B[38;5;28;01mwith\u001B[39;00m ctx_factory():\n\u001B[32m--> \u001B[39m\u001B[32m116\u001B[39m     \u001B[38;5;28;01mreturn\u001B[39;00m \u001B[43mfunc\u001B[49m\u001B[43m(\u001B[49m\u001B[43m*\u001B[49m\u001B[43margs\u001B[49m\u001B[43m,\u001B[49m\u001B[43m \u001B[49m\u001B[43m*\u001B[49m\u001B[43m*\u001B[49m\u001B[43mkwargs\u001B[49m\u001B[43m)\u001B[49m\n",
      "\u001B[36mFile \u001B[39m\u001B[32mD:\\GIT\\Docling-SmolDoc\\.venv\\Lib\\site-packages\\transformers\\generation\\utils.py:2629\u001B[39m, in \u001B[36mGenerationMixin.generate\u001B[39m\u001B[34m(self, inputs, generation_config, logits_processor, stopping_criteria, prefix_allowed_tokens_fn, synced_gpus, assistant_model, streamer, negative_prompt_ids, negative_prompt_attention_mask, use_model_defaults, custom_generate, **kwargs)\u001B[39m\n\u001B[32m   2628\u001B[39m     \u001B[38;5;66;03m# 12. run sample (it degenerates to greedy search when `generation_config.do_sample=False`)\u001B[39;00m\n\u001B[32m-> \u001B[39m\u001B[32m2629\u001B[39m     result = \u001B[38;5;28;43mself\u001B[39;49m\u001B[43m.\u001B[49m\u001B[43m_sample\u001B[49m\u001B[43m(\u001B[49m\n\u001B[32m   2630\u001B[39m \u001B[43m        \u001B[49m\u001B[43minput_ids\u001B[49m\u001B[43m,\u001B[49m\n\u001B[32m   2631\u001B[39m \u001B[43m        \u001B[49m\u001B[43mlogits_processor\u001B[49m\u001B[43m=\u001B[49m\u001B[43mprepared_logits_processor\u001B[49m\u001B[43m,\u001B[49m\n\u001B[32m   2632\u001B[39m \u001B[43m        \u001B[49m\u001B[43mstopping_criteria\u001B[49m\u001B[43m=\u001B[49m\u001B[43mprepared_stopping_criteria\u001B[49m\u001B[43m,\u001B[49m\n\u001B[32m   2633\u001B[39m \u001B[43m        \u001B[49m\u001B[43mgeneration_config\u001B[49m\u001B[43m=\u001B[49m\u001B[43mgeneration_config\u001B[49m\u001B[43m,\u001B[49m\n\u001B[32m   2634\u001B[39m \u001B[43m        \u001B[49m\u001B[43msynced_gpus\u001B[49m\u001B[43m=\u001B[49m\u001B[43msynced_gpus\u001B[49m\u001B[43m,\u001B[49m\n\u001B[32m   2635\u001B[39m \u001B[43m        \u001B[49m\u001B[43mstreamer\u001B[49m\u001B[43m=\u001B[49m\u001B[43mstreamer\u001B[49m\u001B[43m,\u001B[49m\n\u001B[32m   2636\u001B[39m \u001B[43m        \u001B[49m\u001B[43m*\u001B[49m\u001B[43m*\u001B[49m\u001B[43mmodel_kwargs\u001B[49m\u001B[43m,\u001B[49m\n\u001B[32m   2637\u001B[39m \u001B[43m    \u001B[49m\u001B[43m)\u001B[49m\n\u001B[32m   2639\u001B[39m \u001B[38;5;28;01melif\u001B[39;00m generation_mode \u001B[38;5;129;01min\u001B[39;00m (GenerationMode.BEAM_SAMPLE, GenerationMode.BEAM_SEARCH):\n\u001B[32m   2640\u001B[39m     \u001B[38;5;66;03m# 11. interleave input_ids with `num_beams` additional sequences per batch\u001B[39;00m\n",
      "\u001B[36mFile \u001B[39m\u001B[32mD:\\GIT\\Docling-SmolDoc\\.venv\\Lib\\site-packages\\transformers\\generation\\utils.py:3629\u001B[39m, in \u001B[36mGenerationMixin._sample\u001B[39m\u001B[34m(self, input_ids, logits_processor, stopping_criteria, generation_config, synced_gpus, streamer, **model_kwargs)\u001B[39m\n\u001B[32m   3628\u001B[39m \u001B[38;5;66;03m# pre-process distribution\u001B[39;00m\n\u001B[32m-> \u001B[39m\u001B[32m3629\u001B[39m next_token_scores = \u001B[43mlogits_processor\u001B[49m\u001B[43m(\u001B[49m\u001B[43minput_ids\u001B[49m\u001B[43m,\u001B[49m\u001B[43m \u001B[49m\u001B[43mnext_token_logits\u001B[49m\u001B[43m)\u001B[49m\n\u001B[32m   3631\u001B[39m \u001B[38;5;66;03m# Store scores, attentions and hidden_states when required\u001B[39;00m\n",
      "\u001B[36mFile \u001B[39m\u001B[32mD:\\GIT\\Docling-SmolDoc\\.venv\\Lib\\site-packages\\transformers\\generation\\logits_process.py:93\u001B[39m, in \u001B[36mLogitsProcessorList.__call__\u001B[39m\u001B[34m(self, input_ids, scores, **kwargs)\u001B[39m\n\u001B[32m     92\u001B[39m     \u001B[38;5;28;01melse\u001B[39;00m:\n\u001B[32m---> \u001B[39m\u001B[32m93\u001B[39m         scores = \u001B[43mprocessor\u001B[49m\u001B[43m(\u001B[49m\u001B[43minput_ids\u001B[49m\u001B[43m,\u001B[49m\u001B[43m \u001B[49m\u001B[43mscores\u001B[49m\u001B[43m)\u001B[49m\n\u001B[32m     95\u001B[39m \u001B[38;5;28;01mreturn\u001B[39;00m scores\n",
      "\u001B[36mFile \u001B[39m\u001B[32mD:\\GIT\\Docling-SmolDoc\\.venv\\Lib\\site-packages\\transformers\\generation\\logits_process.py:1022\u001B[39m, in \u001B[36mNoRepeatNGramLogitsProcessor.__call__\u001B[39m\u001B[34m(self, input_ids, scores)\u001B[39m\n\u001B[32m   1021\u001B[39m scores_processed = scores.clone()\n\u001B[32m-> \u001B[39m\u001B[32m1022\u001B[39m banned_batch_tokens = \u001B[43m_calc_banned_ngram_tokens\u001B[49m\u001B[43m(\u001B[49m\u001B[38;5;28;43mself\u001B[39;49m\u001B[43m.\u001B[49m\u001B[43mngram_size\u001B[49m\u001B[43m,\u001B[49m\u001B[43m \u001B[49m\u001B[43minput_ids\u001B[49m\u001B[43m,\u001B[49m\u001B[43m \u001B[49m\u001B[43mnum_batch_hypotheses\u001B[49m\u001B[43m,\u001B[49m\u001B[43m \u001B[49m\u001B[43mcur_len\u001B[49m\u001B[43m)\u001B[49m\n\u001B[32m   1023\u001B[39m \u001B[38;5;28;01mfor\u001B[39;00m i, banned_tokens \u001B[38;5;129;01min\u001B[39;00m \u001B[38;5;28menumerate\u001B[39m(banned_batch_tokens):\n",
      "\u001B[36mFile \u001B[39m\u001B[32mD:\\GIT\\Docling-SmolDoc\\.venv\\Lib\\site-packages\\transformers\\generation\\logits_process.py:962\u001B[39m, in \u001B[36m_calc_banned_ngram_tokens\u001B[39m\u001B[34m(ngram_size, prev_input_ids, num_hypos, cur_len)\u001B[39m\n\u001B[32m    961\u001B[39m     \u001B[38;5;28;01mreturn\u001B[39;00m [[] \u001B[38;5;28;01mfor\u001B[39;00m _ \u001B[38;5;129;01min\u001B[39;00m \u001B[38;5;28mrange\u001B[39m(num_hypos)]\n\u001B[32m--> \u001B[39m\u001B[32m962\u001B[39m generated_ngrams = \u001B[43m_get_ngrams\u001B[49m\u001B[43m(\u001B[49m\u001B[43mngram_size\u001B[49m\u001B[43m,\u001B[49m\u001B[43m \u001B[49m\u001B[43mprev_input_ids\u001B[49m\u001B[43m,\u001B[49m\u001B[43m \u001B[49m\u001B[43mnum_hypos\u001B[49m\u001B[43m)\u001B[49m\n\u001B[32m    963\u001B[39m banned_tokens = [\n\u001B[32m    964\u001B[39m     _get_generated_ngrams(generated_ngrams[hypo_idx], prev_input_ids[hypo_idx], ngram_size, cur_len)\n\u001B[32m    965\u001B[39m     \u001B[38;5;28;01mfor\u001B[39;00m hypo_idx \u001B[38;5;129;01min\u001B[39;00m \u001B[38;5;28mrange\u001B[39m(num_hypos)\n\u001B[32m    966\u001B[39m ]\n",
      "\u001B[36mFile \u001B[39m\u001B[32mD:\\GIT\\Docling-SmolDoc\\.venv\\Lib\\site-packages\\transformers\\generation\\logits_process.py:927\u001B[39m, in \u001B[36m_get_ngrams\u001B[39m\u001B[34m(ngram_size, prev_input_ids, num_hypos)\u001B[39m\n\u001B[32m    926\u001B[39m \u001B[38;5;28;01mfor\u001B[39;00m ngram \u001B[38;5;129;01min\u001B[39;00m \u001B[38;5;28mzip\u001B[39m(*[gen_tokens[i:] \u001B[38;5;28;01mfor\u001B[39;00m i \u001B[38;5;129;01min\u001B[39;00m \u001B[38;5;28mrange\u001B[39m(ngram_size)]):\n\u001B[32m--> \u001B[39m\u001B[32m927\u001B[39m     prev_ngram_tuple = \u001B[38;5;28;43mtuple\u001B[39;49m\u001B[43m(\u001B[49m\u001B[43mngram\u001B[49m\u001B[43m[\u001B[49m\u001B[43m:\u001B[49m\u001B[43m-\u001B[49m\u001B[32;43m1\u001B[39;49m\u001B[43m]\u001B[49m\u001B[43m)\u001B[49m\n\u001B[32m    928\u001B[39m     generated_ngram[prev_ngram_tuple] = generated_ngram.get(prev_ngram_tuple, []) + [ngram[-\u001B[32m1\u001B[39m]]\n",
      "\u001B[31mKeyboardInterrupt\u001B[39m: ",
      "\nDuring handling of the above exception, another exception occurred:\n",
      "\u001B[31mKeyboardInterrupt\u001B[39m                         Traceback (most recent call last)",
      "    \u001B[31m[... skipping hidden 1 frame]\u001B[39m\n",
      "\u001B[36mCell\u001B[39m\u001B[36m \u001B[39m\u001B[32mIn[6]\u001B[39m\u001B[32m, line 42\u001B[39m\n\u001B[32m     40\u001B[39m \u001B[38;5;28;01massert\u001B[39;00m pdf_path \u001B[38;5;129;01mis\u001B[39;00m \u001B[38;5;129;01mnot\u001B[39;00m \u001B[38;5;28;01mNone\u001B[39;00m, \u001B[33m'\u001B[39m\u001B[33mPut a PDF into source/\u001B[39m\u001B[33m'\u001B[39m\n\u001B[32m---> \u001B[39m\u001B[32m42\u001B[39m dl_doc = \u001B[43mconverter\u001B[49m\u001B[43m.\u001B[49m\u001B[43mconvert\u001B[49m\u001B[43m(\u001B[49m\u001B[38;5;28;43mstr\u001B[39;49m\u001B[43m(\u001B[49m\u001B[43mpdf_path\u001B[49m\u001B[43m)\u001B[49m\u001B[43m)\u001B[49m.document\n\u001B[32m     44\u001B[39m \u001B[38;5;66;03m# Chunk\u001B[39;00m\n",
      "\u001B[36mFile \u001B[39m\u001B[32mD:\\GIT\\Docling-SmolDoc\\.venv\\Lib\\site-packages\\pydantic\\_internal\\_validate_call.py:39\u001B[39m, in \u001B[36mupdate_wrapper_attributes.<locals>.wrapper_function\u001B[39m\u001B[34m(*args, **kwargs)\u001B[39m\n\u001B[32m     37\u001B[39m \u001B[38;5;129m@functools\u001B[39m.wraps(wrapped)\n\u001B[32m     38\u001B[39m \u001B[38;5;28;01mdef\u001B[39;00m\u001B[38;5;250m \u001B[39m\u001B[34mwrapper_function\u001B[39m(*args, **kwargs):\n\u001B[32m---> \u001B[39m\u001B[32m39\u001B[39m     \u001B[38;5;28;01mreturn\u001B[39;00m \u001B[43mwrapper\u001B[49m\u001B[43m(\u001B[49m\u001B[43m*\u001B[49m\u001B[43margs\u001B[49m\u001B[43m,\u001B[49m\u001B[43m \u001B[49m\u001B[43m*\u001B[49m\u001B[43m*\u001B[49m\u001B[43mkwargs\u001B[49m\u001B[43m)\u001B[49m\n",
      "\u001B[36mFile \u001B[39m\u001B[32mD:\\GIT\\Docling-SmolDoc\\.venv\\Lib\\site-packages\\pydantic\\_internal\\_validate_call.py:136\u001B[39m, in \u001B[36mValidateCallWrapper.__call__\u001B[39m\u001B[34m(self, *args, **kwargs)\u001B[39m\n\u001B[32m    134\u001B[39m     \u001B[38;5;28mself\u001B[39m._create_validators()\n\u001B[32m--> \u001B[39m\u001B[32m136\u001B[39m res = \u001B[38;5;28;43mself\u001B[39;49m\u001B[43m.\u001B[49m\u001B[43m__pydantic_validator__\u001B[49m\u001B[43m.\u001B[49m\u001B[43mvalidate_python\u001B[49m\u001B[43m(\u001B[49m\u001B[43mpydantic_core\u001B[49m\u001B[43m.\u001B[49m\u001B[43mArgsKwargs\u001B[49m\u001B[43m(\u001B[49m\u001B[43margs\u001B[49m\u001B[43m,\u001B[49m\u001B[43m \u001B[49m\u001B[43mkwargs\u001B[49m\u001B[43m)\u001B[49m\u001B[43m)\u001B[49m\n\u001B[32m    137\u001B[39m \u001B[38;5;28;01mif\u001B[39;00m \u001B[38;5;28mself\u001B[39m.__return_pydantic_validator__:\n",
      "\u001B[36mFile \u001B[39m\u001B[32mD:\\GIT\\Docling-SmolDoc\\.venv\\Lib\\site-packages\\docling\\document_converter.py:244\u001B[39m, in \u001B[36mDocumentConverter.convert\u001B[39m\u001B[34m(self, source, headers, raises_on_error, max_num_pages, max_file_size, page_range)\u001B[39m\n\u001B[32m    236\u001B[39m all_res = \u001B[38;5;28mself\u001B[39m.convert_all(\n\u001B[32m    237\u001B[39m     source=[source],\n\u001B[32m    238\u001B[39m     raises_on_error=raises_on_error,\n\u001B[32m   (...)\u001B[39m\u001B[32m    242\u001B[39m     page_range=page_range,\n\u001B[32m    243\u001B[39m )\n\u001B[32m--> \u001B[39m\u001B[32m244\u001B[39m \u001B[38;5;28;01mreturn\u001B[39;00m \u001B[38;5;28;43mnext\u001B[39;49m\u001B[43m(\u001B[49m\u001B[43mall_res\u001B[49m\u001B[43m)\u001B[49m\n",
      "\u001B[36mFile \u001B[39m\u001B[32mD:\\GIT\\Docling-SmolDoc\\.venv\\Lib\\site-packages\\docling\\document_converter.py:267\u001B[39m, in \u001B[36mDocumentConverter.convert_all\u001B[39m\u001B[34m(self, source, headers, raises_on_error, max_num_pages, max_file_size, page_range)\u001B[39m\n\u001B[32m    266\u001B[39m had_result = \u001B[38;5;28;01mFalse\u001B[39;00m\n\u001B[32m--> \u001B[39m\u001B[32m267\u001B[39m \u001B[43m\u001B[49m\u001B[38;5;28;43;01mfor\u001B[39;49;00m\u001B[43m \u001B[49m\u001B[43mconv_res\u001B[49m\u001B[43m \u001B[49m\u001B[38;5;129;43;01min\u001B[39;49;00m\u001B[43m \u001B[49m\u001B[43mconv_res_iter\u001B[49m\u001B[43m:\u001B[49m\n\u001B[32m    268\u001B[39m \u001B[43m    \u001B[49m\u001B[43mhad_result\u001B[49m\u001B[43m \u001B[49m\u001B[43m=\u001B[49m\u001B[43m \u001B[49m\u001B[38;5;28;43;01mTrue\u001B[39;49;00m\n",
      "\u001B[36mFile \u001B[39m\u001B[32mD:\\GIT\\Docling-SmolDoc\\.venv\\Lib\\site-packages\\docling\\document_converter.py:339\u001B[39m, in \u001B[36mDocumentConverter._convert\u001B[39m\u001B[34m(self, conv_input, raises_on_error)\u001B[39m\n\u001B[32m    338\u001B[39m \u001B[38;5;28;01melse\u001B[39;00m:\n\u001B[32m--> \u001B[39m\u001B[32m339\u001B[39m \u001B[43m    \u001B[49m\u001B[38;5;28;43;01mfor\u001B[39;49;00m\u001B[43m \u001B[49m\u001B[43mitem\u001B[49m\u001B[43m \u001B[49m\u001B[38;5;129;43;01min\u001B[39;49;00m\u001B[43m \u001B[49m\u001B[38;5;28;43mmap\u001B[39;49m\u001B[43m(\u001B[49m\n\u001B[32m    340\u001B[39m \u001B[43m        \u001B[49m\u001B[43mprocess_func\u001B[49m\u001B[43m,\u001B[49m\n\u001B[32m    341\u001B[39m \u001B[43m        \u001B[49m\u001B[43minput_batch\u001B[49m\u001B[43m,\u001B[49m\n\u001B[32m    342\u001B[39m \u001B[43m    \u001B[49m\u001B[43m)\u001B[49m\u001B[43m:\u001B[49m\n\u001B[32m    343\u001B[39m \u001B[43m        \u001B[49m\u001B[43melapsed\u001B[49m\u001B[43m \u001B[49m\u001B[43m=\u001B[49m\u001B[43m \u001B[49m\u001B[43mtime\u001B[49m\u001B[43m.\u001B[49m\u001B[43mmonotonic\u001B[49m\u001B[43m(\u001B[49m\u001B[43m)\u001B[49m\u001B[43m \u001B[49m\u001B[43m-\u001B[49m\u001B[43m \u001B[49m\u001B[43mstart_time\u001B[49m\n",
      "\u001B[36mFile \u001B[39m\u001B[32mD:\\GIT\\Docling-SmolDoc\\.venv\\Lib\\site-packages\\docling\\document_converter.py:386\u001B[39m, in \u001B[36mDocumentConverter._process_document\u001B[39m\u001B[34m(self, in_doc, raises_on_error)\u001B[39m\n\u001B[32m    385\u001B[39m \u001B[38;5;28;01mif\u001B[39;00m valid:\n\u001B[32m--> \u001B[39m\u001B[32m386\u001B[39m     conv_res = \u001B[38;5;28;43mself\u001B[39;49m\u001B[43m.\u001B[49m\u001B[43m_execute_pipeline\u001B[49m\u001B[43m(\u001B[49m\u001B[43min_doc\u001B[49m\u001B[43m,\u001B[49m\u001B[43m \u001B[49m\u001B[43mraises_on_error\u001B[49m\u001B[43m=\u001B[49m\u001B[43mraises_on_error\u001B[49m\u001B[43m)\u001B[49m\n\u001B[32m    387\u001B[39m \u001B[38;5;28;01melse\u001B[39;00m:\n",
      "\u001B[36mFile \u001B[39m\u001B[32mD:\\GIT\\Docling-SmolDoc\\.venv\\Lib\\site-packages\\docling\\document_converter.py:409\u001B[39m, in \u001B[36mDocumentConverter._execute_pipeline\u001B[39m\u001B[34m(self, in_doc, raises_on_error)\u001B[39m\n\u001B[32m    408\u001B[39m \u001B[38;5;28;01mif\u001B[39;00m pipeline \u001B[38;5;129;01mis\u001B[39;00m \u001B[38;5;129;01mnot\u001B[39;00m \u001B[38;5;28;01mNone\u001B[39;00m:\n\u001B[32m--> \u001B[39m\u001B[32m409\u001B[39m     conv_res = \u001B[43mpipeline\u001B[49m\u001B[43m.\u001B[49m\u001B[43mexecute\u001B[49m\u001B[43m(\u001B[49m\u001B[43min_doc\u001B[49m\u001B[43m,\u001B[49m\u001B[43m \u001B[49m\u001B[43mraises_on_error\u001B[49m\u001B[43m=\u001B[49m\u001B[43mraises_on_error\u001B[49m\u001B[43m)\u001B[49m\n\u001B[32m    410\u001B[39m \u001B[38;5;28;01melse\u001B[39;00m:\n",
      "\u001B[36mFile \u001B[39m\u001B[32mD:\\GIT\\Docling-SmolDoc\\.venv\\Lib\\site-packages\\docling\\pipeline\\base_pipeline.py:59\u001B[39m, in \u001B[36mBasePipeline.execute\u001B[39m\u001B[34m(self, in_doc, raises_on_error)\u001B[39m\n\u001B[32m     58\u001B[39m \u001B[38;5;28;01mfinally\u001B[39;00m:\n\u001B[32m---> \u001B[39m\u001B[32m59\u001B[39m     \u001B[38;5;28;43mself\u001B[39;49m\u001B[43m.\u001B[49m\u001B[43m_unload\u001B[49m\u001B[43m(\u001B[49m\u001B[43mconv_res\u001B[49m\u001B[43m)\u001B[49m\n\u001B[32m     61\u001B[39m \u001B[38;5;28;01mreturn\u001B[39;00m conv_res\n",
      "\u001B[36mFile \u001B[39m\u001B[32mD:\\GIT\\Docling-SmolDoc\\.venv\\Lib\\site-packages\\docling\\pipeline\\base_pipeline.py:218\u001B[39m, in \u001B[36mPaginatedPipeline._unload\u001B[39m\u001B[34m(self, conv_res)\u001B[39m\n\u001B[32m    217\u001B[39m \u001B[38;5;28;01mif\u001B[39;00m conv_res.input._backend:\n\u001B[32m--> \u001B[39m\u001B[32m218\u001B[39m     \u001B[43mconv_res\u001B[49m\u001B[43m.\u001B[49m\u001B[43minput\u001B[49m\u001B[43m.\u001B[49m\u001B[43m_backend\u001B[49m\u001B[43m.\u001B[49m\u001B[43munload\u001B[49m\u001B[43m(\u001B[49m\u001B[43m)\u001B[49m\n\u001B[32m    220\u001B[39m \u001B[38;5;28;01mreturn\u001B[39;00m conv_res\n",
      "\u001B[36mFile \u001B[39m\u001B[32mD:\\GIT\\Docling-SmolDoc\\.venv\\Lib\\site-packages\\docling\\backend\\docling_parse_v4_backend.py:199\u001B[39m, in \u001B[36mDoclingParseV4DocumentBackend.unload\u001B[39m\u001B[34m(self)\u001B[39m\n\u001B[32m    198\u001B[39m \u001B[38;5;28;01mtry\u001B[39;00m:\n\u001B[32m--> \u001B[39m\u001B[32m199\u001B[39m     \u001B[38;5;28;43mself\u001B[39;49m\u001B[43m.\u001B[49m\u001B[43m_pdoc\u001B[49m\u001B[43m.\u001B[49m\u001B[43mclose\u001B[49m\u001B[43m(\u001B[49m\u001B[43m)\u001B[49m\n\u001B[32m    200\u001B[39m \u001B[38;5;28;01mexcept\u001B[39;00m \u001B[38;5;167;01mException\u001B[39;00m:\n\u001B[32m    201\u001B[39m     \u001B[38;5;66;03m# Ignore cleanup errors\u001B[39;00m\n",
      "\u001B[36mFile \u001B[39m\u001B[32mD:\\GIT\\Docling-SmolDoc\\.venv\\Lib\\site-packages\\pypdfium2\\internal\\bases.py:99\u001B[39m, in \u001B[36mAutoCloseable.close\u001B[39m\u001B[34m(self, _by_parent)\u001B[39m\n\u001B[32m     98\u001B[39m     \u001B[38;5;28;01mif\u001B[39;00m k \u001B[38;5;129;01mand\u001B[39;00m k.raw:\n\u001B[32m---> \u001B[39m\u001B[32m99\u001B[39m         \u001B[43mk\u001B[49m\u001B[43m.\u001B[49m\u001B[43mclose\u001B[49m\u001B[43m(\u001B[49m\u001B[43m_by_parent\u001B[49m\u001B[43m=\u001B[49m\u001B[38;5;28;43;01mTrue\u001B[39;49;00m\u001B[43m)\u001B[49m\n\u001B[32m    101\u001B[39m \u001B[38;5;28mself\u001B[39m._autoclose_state.value = STATE_BYPARENT \u001B[38;5;28;01mif\u001B[39;00m _by_parent \u001B[38;5;28;01melse\u001B[39;00m STATE_EXPLICIT\n",
      "\u001B[36mFile \u001B[39m\u001B[32mD:\\GIT\\Docling-SmolDoc\\.venv\\Lib\\site-packages\\pypdfium2\\internal\\bases.py:102\u001B[39m, in \u001B[36mAutoCloseable.close\u001B[39m\u001B[34m(self, _by_parent)\u001B[39m\n\u001B[32m    101\u001B[39m \u001B[38;5;28mself\u001B[39m._autoclose_state.value = STATE_BYPARENT \u001B[38;5;28;01mif\u001B[39;00m _by_parent \u001B[38;5;28;01melse\u001B[39;00m STATE_EXPLICIT\n\u001B[32m--> \u001B[39m\u001B[32m102\u001B[39m \u001B[38;5;28;43mself\u001B[39;49m\u001B[43m.\u001B[49m\u001B[43m_finalizer\u001B[49m\u001B[43m(\u001B[49m\u001B[43m)\u001B[49m\n\u001B[32m    103\u001B[39m \u001B[38;5;28mself\u001B[39m._autoclose_state.value = STATE_INVALID\n",
      "\u001B[36mFile \u001B[39m\u001B[32m~\\AppData\\Local\\Programs\\Python\\Python312\\Lib\\weakref.py:590\u001B[39m, in \u001B[36mfinalize.__call__\u001B[39m\u001B[34m(self, _)\u001B[39m\n\u001B[32m    589\u001B[39m \u001B[38;5;28;01mif\u001B[39;00m info \u001B[38;5;129;01mand\u001B[39;00m \u001B[38;5;129;01mnot\u001B[39;00m \u001B[38;5;28mself\u001B[39m._shutdown:\n\u001B[32m--> \u001B[39m\u001B[32m590\u001B[39m     \u001B[38;5;28;01mreturn\u001B[39;00m \u001B[43minfo\u001B[49m\u001B[43m.\u001B[49m\u001B[43mfunc\u001B[49m\u001B[43m(\u001B[49m\u001B[43m*\u001B[49m\u001B[43minfo\u001B[49m\u001B[43m.\u001B[49m\u001B[43margs\u001B[49m\u001B[43m,\u001B[49m\u001B[43m \u001B[49m\u001B[43m*\u001B[49m\u001B[43m*\u001B[49m\u001B[43m(\u001B[49m\u001B[43minfo\u001B[49m\u001B[43m.\u001B[49m\u001B[43mkwargs\u001B[49m\u001B[43m \u001B[49m\u001B[38;5;129;43;01mor\u001B[39;49;00m\u001B[43m \u001B[49m\u001B[43m{\u001B[49m\u001B[43m}\u001B[49m\u001B[43m)\u001B[49m\u001B[43m)\u001B[49m\n",
      "\u001B[36mFile \u001B[39m\u001B[32mD:\\GIT\\Docling-SmolDoc\\.venv\\Lib\\site-packages\\pypdfium2\\internal\\bases.py:44\u001B[39m, in \u001B[36m_close_template\u001B[39m\u001B[34m(close_func, raw, obj_repr, state, parent, *args, **kwargs)\u001B[39m\n\u001B[32m     43\u001B[39m \u001B[38;5;28;01massert\u001B[39;00m (parent \u001B[38;5;129;01mis\u001B[39;00m \u001B[38;5;28;01mNone\u001B[39;00m) \u001B[38;5;129;01mor\u001B[39;00m \u001B[38;5;129;01mnot\u001B[39;00m parent._tree_closed()\n\u001B[32m---> \u001B[39m\u001B[32m44\u001B[39m \u001B[43mclose_func\u001B[49m\u001B[43m(\u001B[49m\u001B[43mraw\u001B[49m\u001B[43m,\u001B[49m\u001B[43m \u001B[49m\u001B[43m*\u001B[49m\u001B[43margs\u001B[49m\u001B[43m,\u001B[49m\u001B[43m \u001B[49m\u001B[43m*\u001B[49m\u001B[43m*\u001B[49m\u001B[43mkwargs\u001B[49m\u001B[43m)\u001B[49m\n",
      "\u001B[36mFile \u001B[39m\u001B[32mD:\\GIT\\Docling-SmolDoc\\.venv\\Lib\\site-packages\\pypdfium2\\_helpers\\page.py:38\u001B[39m, in \u001B[36mPdfPage._close_impl\u001B[39m\u001B[34m(raw, formenv)\u001B[39m\n\u001B[32m     37\u001B[39m     pdfium_c.FORM_OnBeforeClosePage(raw, formenv)\n\u001B[32m---> \u001B[39m\u001B[32m38\u001B[39m \u001B[43mpdfium_c\u001B[49m\u001B[43m.\u001B[49m\u001B[43mFPDF_ClosePage\u001B[49m\u001B[43m(\u001B[49m\u001B[43mraw\u001B[49m\u001B[43m)\u001B[49m\n",
      "\u001B[31mKeyboardInterrupt\u001B[39m: ",
      "\nDuring handling of the above exception, another exception occurred:\n",
      "\u001B[31mKeyboardInterrupt\u001B[39m                         Traceback (most recent call last)",
      "\u001B[36mFile \u001B[39m\u001B[32mD:\\GIT\\Docling-SmolDoc\\.venv\\Lib\\site-packages\\IPython\\core\\interactiveshell.py:2194\u001B[39m, in \u001B[36mInteractiveShell.showtraceback\u001B[39m\u001B[34m(self, exc_tuple, filename, tb_offset, exception_only, running_compiled_code)\u001B[39m\n\u001B[32m   2193\u001B[39m     \u001B[38;5;28;01melse\u001B[39;00m:\n\u001B[32m-> \u001B[39m\u001B[32m2194\u001B[39m         stb = \u001B[38;5;28;43mself\u001B[39;49m\u001B[43m.\u001B[49m\u001B[43mInteractiveTB\u001B[49m\u001B[43m.\u001B[49m\u001B[43mstructured_traceback\u001B[49m\u001B[43m(\u001B[49m\n\u001B[32m   2195\u001B[39m \u001B[43m            \u001B[49m\u001B[43metype\u001B[49m\u001B[43m,\u001B[49m\u001B[43m \u001B[49m\u001B[43mvalue\u001B[49m\u001B[43m,\u001B[49m\u001B[43m \u001B[49m\u001B[43mtb\u001B[49m\u001B[43m,\u001B[49m\u001B[43m \u001B[49m\u001B[43mtb_offset\u001B[49m\u001B[43m=\u001B[49m\u001B[43mtb_offset\u001B[49m\n\u001B[32m   2196\u001B[39m \u001B[43m        \u001B[49m\u001B[43m)\u001B[49m\n\u001B[32m   2198\u001B[39m \u001B[38;5;28;01mexcept\u001B[39;00m \u001B[38;5;167;01mException\u001B[39;00m:\n",
      "\u001B[36mFile \u001B[39m\u001B[32mD:\\GIT\\Docling-SmolDoc\\.venv\\Lib\\site-packages\\IPython\\core\\ultratb.py:1182\u001B[39m, in \u001B[36mAutoFormattedTB.structured_traceback\u001B[39m\u001B[34m(self, etype, evalue, etb, tb_offset, context)\u001B[39m\n\u001B[32m   1181\u001B[39m     \u001B[38;5;28mself\u001B[39m.tb = etb\n\u001B[32m-> \u001B[39m\u001B[32m1182\u001B[39m \u001B[38;5;28;01mreturn\u001B[39;00m \u001B[43mFormattedTB\u001B[49m\u001B[43m.\u001B[49m\u001B[43mstructured_traceback\u001B[49m\u001B[43m(\u001B[49m\n\u001B[32m   1183\u001B[39m \u001B[43m    \u001B[49m\u001B[38;5;28;43mself\u001B[39;49m\u001B[43m,\u001B[49m\u001B[43m \u001B[49m\u001B[43metype\u001B[49m\u001B[43m,\u001B[49m\u001B[43m \u001B[49m\u001B[43mevalue\u001B[49m\u001B[43m,\u001B[49m\u001B[43m \u001B[49m\u001B[43metb\u001B[49m\u001B[43m,\u001B[49m\u001B[43m \u001B[49m\u001B[43mtb_offset\u001B[49m\u001B[43m,\u001B[49m\u001B[43m \u001B[49m\u001B[43mcontext\u001B[49m\n\u001B[32m   1184\u001B[39m \u001B[43m\u001B[49m\u001B[43m)\u001B[49m\n",
      "\u001B[36mFile \u001B[39m\u001B[32mD:\\GIT\\Docling-SmolDoc\\.venv\\Lib\\site-packages\\IPython\\core\\ultratb.py:1053\u001B[39m, in \u001B[36mFormattedTB.structured_traceback\u001B[39m\u001B[34m(self, etype, evalue, etb, tb_offset, context)\u001B[39m\n\u001B[32m   1051\u001B[39m \u001B[38;5;28;01mif\u001B[39;00m mode \u001B[38;5;129;01min\u001B[39;00m \u001B[38;5;28mself\u001B[39m.verbose_modes:\n\u001B[32m   1052\u001B[39m     \u001B[38;5;66;03m# Verbose modes need a full traceback\u001B[39;00m\n\u001B[32m-> \u001B[39m\u001B[32m1053\u001B[39m     \u001B[38;5;28;01mreturn\u001B[39;00m \u001B[43mVerboseTB\u001B[49m\u001B[43m.\u001B[49m\u001B[43mstructured_traceback\u001B[49m\u001B[43m(\u001B[49m\n\u001B[32m   1054\u001B[39m \u001B[43m        \u001B[49m\u001B[38;5;28;43mself\u001B[39;49m\u001B[43m,\u001B[49m\u001B[43m \u001B[49m\u001B[43metype\u001B[49m\u001B[43m,\u001B[49m\u001B[43m \u001B[49m\u001B[43mevalue\u001B[49m\u001B[43m,\u001B[49m\u001B[43m \u001B[49m\u001B[43metb\u001B[49m\u001B[43m,\u001B[49m\u001B[43m \u001B[49m\u001B[43mtb_offset\u001B[49m\u001B[43m,\u001B[49m\u001B[43m \u001B[49m\u001B[43mcontext\u001B[49m\n\u001B[32m   1055\u001B[39m \u001B[43m    \u001B[49m\u001B[43m)\u001B[49m\n\u001B[32m   1056\u001B[39m \u001B[38;5;28;01melif\u001B[39;00m mode == \u001B[33m\"\u001B[39m\u001B[33mDocs\u001B[39m\u001B[33m\"\u001B[39m:\n\u001B[32m   1057\u001B[39m     \u001B[38;5;66;03m# return DocTB\u001B[39;00m\n",
      "\u001B[36mFile \u001B[39m\u001B[32mD:\\GIT\\Docling-SmolDoc\\.venv\\Lib\\site-packages\\IPython\\core\\ultratb.py:861\u001B[39m, in \u001B[36mVerboseTB.structured_traceback\u001B[39m\u001B[34m(self, etype, evalue, etb, tb_offset, context)\u001B[39m\n\u001B[32m    860\u001B[39m \u001B[38;5;250m\u001B[39m\u001B[33;03m\"\"\"Return a nice text document describing the traceback.\"\"\"\u001B[39;00m\n\u001B[32m--> \u001B[39m\u001B[32m861\u001B[39m formatted_exceptions: \u001B[38;5;28mlist\u001B[39m[\u001B[38;5;28mlist\u001B[39m[\u001B[38;5;28mstr\u001B[39m]] = \u001B[38;5;28;43mself\u001B[39;49m\u001B[43m.\u001B[49m\u001B[43mformat_exception_as_a_whole\u001B[49m\u001B[43m(\u001B[49m\n\u001B[32m    862\u001B[39m \u001B[43m    \u001B[49m\u001B[43metype\u001B[49m\u001B[43m,\u001B[49m\u001B[43m \u001B[49m\u001B[43mevalue\u001B[49m\u001B[43m,\u001B[49m\u001B[43m \u001B[49m\u001B[43metb\u001B[49m\u001B[43m,\u001B[49m\u001B[43m \u001B[49m\u001B[43mcontext\u001B[49m\u001B[43m,\u001B[49m\u001B[43m \u001B[49m\u001B[43mtb_offset\u001B[49m\n\u001B[32m    863\u001B[39m \u001B[43m\u001B[49m\u001B[43m)\u001B[49m\n\u001B[32m    865\u001B[39m termsize = \u001B[38;5;28mmin\u001B[39m(\u001B[32m75\u001B[39m, get_terminal_size()[\u001B[32m0\u001B[39m])\n",
      "\u001B[36mFile \u001B[39m\u001B[32mD:\\GIT\\Docling-SmolDoc\\.venv\\Lib\\site-packages\\IPython\\core\\ultratb.py:746\u001B[39m, in \u001B[36mVerboseTB.format_exception_as_a_whole\u001B[39m\u001B[34m(self, etype, evalue, etb, context, tb_offset)\u001B[39m\n\u001B[32m    745\u001B[39m head = \u001B[38;5;28mself\u001B[39m.prepare_header(\u001B[38;5;28mstr\u001B[39m(etype), \u001B[38;5;28mself\u001B[39m.long_header)\n\u001B[32m--> \u001B[39m\u001B[32m746\u001B[39m records = \u001B[38;5;28;43mself\u001B[39;49m\u001B[43m.\u001B[49m\u001B[43mget_records\u001B[49m\u001B[43m(\u001B[49m\u001B[43metb\u001B[49m\u001B[43m,\u001B[49m\u001B[43m \u001B[49m\u001B[43mcontext\u001B[49m\u001B[43m,\u001B[49m\u001B[43m \u001B[49m\u001B[43mtb_offset\u001B[49m\u001B[43m)\u001B[49m \u001B[38;5;28;01mif\u001B[39;00m etb \u001B[38;5;28;01melse\u001B[39;00m []\n\u001B[32m    748\u001B[39m frames = []\n",
      "\u001B[36mFile \u001B[39m\u001B[32mD:\\GIT\\Docling-SmolDoc\\.venv\\Lib\\site-packages\\IPython\\core\\ultratb.py:826\u001B[39m, in \u001B[36mVerboseTB.get_records\u001B[39m\u001B[34m(self, etb, context, tb_offset)\u001B[39m\n\u001B[32m    825\u001B[39m             \u001B[38;5;28;01mcontinue\u001B[39;00m\n\u001B[32m--> \u001B[39m\u001B[32m826\u001B[39m     max_len = \u001B[43mget_line_number_of_frame\u001B[49m\u001B[43m(\u001B[49m\u001B[43mcf\u001B[49m\u001B[43m.\u001B[49m\u001B[43mtb_frame\u001B[49m\u001B[43m)\u001B[49m\n\u001B[32m    828\u001B[39m \u001B[38;5;28;01mexcept\u001B[39;00m \u001B[38;5;167;01mOSError\u001B[39;00m:\n",
      "\u001B[36mFile \u001B[39m\u001B[32mD:\\GIT\\Docling-SmolDoc\\.venv\\Lib\\site-packages\\IPython\\core\\tbtools.py:63\u001B[39m, in \u001B[36mget_line_number_of_frame\u001B[39m\u001B[34m(frame)\u001B[39m\n\u001B[32m     62\u001B[39m     \u001B[38;5;28;01mreturn\u001B[39;00m first + \u001B[38;5;28mlen\u001B[39m(lines)\n\u001B[32m---> \u001B[39m\u001B[32m63\u001B[39m \u001B[38;5;28;01mreturn\u001B[39;00m \u001B[43mcount_lines_in_py_file\u001B[49m\u001B[43m(\u001B[49m\u001B[43mfilename\u001B[49m\u001B[43m)\u001B[49m\n",
      "\u001B[36mFile \u001B[39m\u001B[32mD:\\GIT\\Docling-SmolDoc\\.venv\\Lib\\site-packages\\IPython\\core\\tbtools.py:33\u001B[39m, in \u001B[36mcount_lines_in_py_file\u001B[39m\u001B[34m(filename)\u001B[39m\n\u001B[32m     32\u001B[39m \u001B[38;5;28;01mtry\u001B[39;00m:\n\u001B[32m---> \u001B[39m\u001B[32m33\u001B[39m     \u001B[38;5;28;01mwith\u001B[39;00m \u001B[38;5;28;43mopen\u001B[39;49m\u001B[43m(\u001B[49m\u001B[43mfilename\u001B[49m\u001B[43m,\u001B[49m\u001B[43m \u001B[49m\u001B[33;43m\"\u001B[39;49m\u001B[33;43mr\u001B[39;49m\u001B[33;43m\"\u001B[39;49m\u001B[43m)\u001B[49m \u001B[38;5;28;01mas\u001B[39;00m file:\n\u001B[32m     34\u001B[39m         s = \u001B[38;5;28msum\u001B[39m(\u001B[32m1\u001B[39m \u001B[38;5;28;01mfor\u001B[39;00m line \u001B[38;5;129;01min\u001B[39;00m file)\n",
      "\u001B[36mFile \u001B[39m\u001B[32m<frozen codecs>:260\u001B[39m, in \u001B[36m__init__\u001B[39m\u001B[34m(self, errors)\u001B[39m\n",
      "\u001B[31mKeyboardInterrupt\u001B[39m: ",
      "\nDuring handling of the above exception, another exception occurred:\n",
      "\u001B[31mKeyboardInterrupt\u001B[39m                         Traceback (most recent call last)",
      "    \u001B[31m[... skipping hidden 1 frame]\u001B[39m\n",
      "\u001B[36mFile \u001B[39m\u001B[32mD:\\GIT\\Docling-SmolDoc\\.venv\\Lib\\site-packages\\IPython\\core\\interactiveshell.py:2215\u001B[39m, in \u001B[36mInteractiveShell.showtraceback\u001B[39m\u001B[34m(self, exc_tuple, filename, tb_offset, exception_only, running_compiled_code)\u001B[39m\n\u001B[32m   2212\u001B[39m         \u001B[38;5;28mself\u001B[39m._showtraceback(etype, value, stb)\n\u001B[32m   2214\u001B[39m \u001B[38;5;28;01mexcept\u001B[39;00m \u001B[38;5;167;01mKeyboardInterrupt\u001B[39;00m:\n\u001B[32m-> \u001B[39m\u001B[32m2215\u001B[39m     \u001B[38;5;28mprint\u001B[39m(\u001B[33m'\u001B[39m\u001B[38;5;130;01m\\n\u001B[39;00m\u001B[33m'\u001B[39m + \u001B[38;5;28;43mself\u001B[39;49m\u001B[43m.\u001B[49m\u001B[43mget_exception_only\u001B[49m\u001B[43m(\u001B[49m\u001B[43m)\u001B[49m, file=sys.stderr)\n",
      "\u001B[36mFile \u001B[39m\u001B[32mD:\\GIT\\Docling-SmolDoc\\.venv\\Lib\\site-packages\\IPython\\core\\interactiveshell.py:2138\u001B[39m, in \u001B[36mInteractiveShell.get_exception_only\u001B[39m\u001B[34m(self, exc_tuple)\u001B[39m\n\u001B[32m   2133\u001B[39m \u001B[38;5;250m\u001B[39m\u001B[33;03m\"\"\"\u001B[39;00m\n\u001B[32m   2134\u001B[39m \u001B[33;03mReturn as a string (ending with a newline) the exception that\u001B[39;00m\n\u001B[32m   2135\u001B[39m \u001B[33;03mjust occurred, without any traceback.\u001B[39;00m\n\u001B[32m   2136\u001B[39m \u001B[33;03m\"\"\"\u001B[39;00m\n\u001B[32m   2137\u001B[39m etype, value, tb = \u001B[38;5;28mself\u001B[39m._get_exc_info(exc_tuple)\n\u001B[32m-> \u001B[39m\u001B[32m2138\u001B[39m msg = \u001B[43mtraceback\u001B[49m\u001B[43m.\u001B[49m\u001B[43mformat_exception_only\u001B[49m\u001B[43m(\u001B[49m\u001B[43metype\u001B[49m\u001B[43m,\u001B[49m\u001B[43m \u001B[49m\u001B[43mvalue\u001B[49m\u001B[43m)\u001B[49m\n\u001B[32m   2139\u001B[39m \u001B[38;5;28;01mreturn\u001B[39;00m \u001B[33m'\u001B[39m\u001B[33m'\u001B[39m.join(msg)\n",
      "\u001B[36mFile \u001B[39m\u001B[32m~\\AppData\\Local\\Programs\\Python\\Python312\\Lib\\traceback.py:156\u001B[39m, in \u001B[36mformat_exception_only\u001B[39m\u001B[34m(exc, value)\u001B[39m\n\u001B[32m    154\u001B[39m \u001B[38;5;28;01mif\u001B[39;00m value \u001B[38;5;129;01mis\u001B[39;00m _sentinel:\n\u001B[32m    155\u001B[39m     value = exc\n\u001B[32m--> \u001B[39m\u001B[32m156\u001B[39m te = \u001B[43mTracebackException\u001B[49m\u001B[43m(\u001B[49m\u001B[38;5;28;43mtype\u001B[39;49m\u001B[43m(\u001B[49m\u001B[43mvalue\u001B[49m\u001B[43m)\u001B[49m\u001B[43m,\u001B[49m\u001B[43m \u001B[49m\u001B[43mvalue\u001B[49m\u001B[43m,\u001B[49m\u001B[43m \u001B[49m\u001B[38;5;28;43;01mNone\u001B[39;49;00m\u001B[43m,\u001B[49m\u001B[43m \u001B[49m\u001B[43mcompact\u001B[49m\u001B[43m=\u001B[49m\u001B[38;5;28;43;01mTrue\u001B[39;49;00m\u001B[43m)\u001B[49m\n\u001B[32m    157\u001B[39m \u001B[38;5;28;01mreturn\u001B[39;00m \u001B[38;5;28mlist\u001B[39m(te.format_exception_only())\n",
      "\u001B[36mFile \u001B[39m\u001B[32m~\\AppData\\Local\\Programs\\Python\\Python312\\Lib\\traceback.py:811\u001B[39m, in \u001B[36mTracebackException.__init__\u001B[39m\u001B[34m(self, exc_type, exc_value, exc_traceback, limit, lookup_lines, capture_locals, compact, max_group_width, max_group_depth, _seen)\u001B[39m\n\u001B[32m    808\u001B[39m     need_context = \u001B[38;5;28;01mTrue\u001B[39;00m\n\u001B[32m    809\u001B[39m \u001B[38;5;28;01mif\u001B[39;00m (e \u001B[38;5;129;01mand\u001B[39;00m e.__context__ \u001B[38;5;129;01mis\u001B[39;00m \u001B[38;5;129;01mnot\u001B[39;00m \u001B[38;5;28;01mNone\u001B[39;00m\n\u001B[32m    810\u001B[39m     \u001B[38;5;129;01mand\u001B[39;00m need_context \u001B[38;5;129;01mand\u001B[39;00m \u001B[38;5;28mid\u001B[39m(e.__context__) \u001B[38;5;129;01mnot\u001B[39;00m \u001B[38;5;129;01min\u001B[39;00m _seen):\n\u001B[32m--> \u001B[39m\u001B[32m811\u001B[39m     context = \u001B[43mTracebackException\u001B[49m\u001B[43m(\u001B[49m\n\u001B[32m    812\u001B[39m \u001B[43m        \u001B[49m\u001B[38;5;28;43mtype\u001B[39;49m\u001B[43m(\u001B[49m\u001B[43me\u001B[49m\u001B[43m.\u001B[49m\u001B[43m__context__\u001B[49m\u001B[43m)\u001B[49m\u001B[43m,\u001B[49m\n\u001B[32m    813\u001B[39m \u001B[43m        \u001B[49m\u001B[43me\u001B[49m\u001B[43m.\u001B[49m\u001B[43m__context__\u001B[49m\u001B[43m,\u001B[49m\n\u001B[32m    814\u001B[39m \u001B[43m        \u001B[49m\u001B[43me\u001B[49m\u001B[43m.\u001B[49m\u001B[43m__context__\u001B[49m\u001B[43m.\u001B[49m\u001B[43m__traceback__\u001B[49m\u001B[43m,\u001B[49m\n\u001B[32m    815\u001B[39m \u001B[43m        \u001B[49m\u001B[43mlimit\u001B[49m\u001B[43m=\u001B[49m\u001B[43mlimit\u001B[49m\u001B[43m,\u001B[49m\n\u001B[32m    816\u001B[39m \u001B[43m        \u001B[49m\u001B[43mlookup_lines\u001B[49m\u001B[43m=\u001B[49m\u001B[43mlookup_lines\u001B[49m\u001B[43m,\u001B[49m\n\u001B[32m    817\u001B[39m \u001B[43m        \u001B[49m\u001B[43mcapture_locals\u001B[49m\u001B[43m=\u001B[49m\u001B[43mcapture_locals\u001B[49m\u001B[43m,\u001B[49m\n\u001B[32m    818\u001B[39m \u001B[43m        \u001B[49m\u001B[43mmax_group_width\u001B[49m\u001B[43m=\u001B[49m\u001B[43mmax_group_width\u001B[49m\u001B[43m,\u001B[49m\n\u001B[32m    819\u001B[39m \u001B[43m        \u001B[49m\u001B[43mmax_group_depth\u001B[49m\u001B[43m=\u001B[49m\u001B[43mmax_group_depth\u001B[49m\u001B[43m,\u001B[49m\n\u001B[32m    820\u001B[39m \u001B[43m        \u001B[49m\u001B[43m_seen\u001B[49m\u001B[43m=\u001B[49m\u001B[43m_seen\u001B[49m\u001B[43m)\u001B[49m\n\u001B[32m    821\u001B[39m \u001B[38;5;28;01melse\u001B[39;00m:\n\u001B[32m    822\u001B[39m     context = \u001B[38;5;28;01mNone\u001B[39;00m\n",
      "\u001B[36mFile \u001B[39m\u001B[32m~\\AppData\\Local\\Programs\\Python\\Python312\\Lib\\traceback.py:733\u001B[39m, in \u001B[36mTracebackException.__init__\u001B[39m\u001B[34m(self, exc_type, exc_value, exc_traceback, limit, lookup_lines, capture_locals, compact, max_group_width, max_group_depth, _seen)\u001B[39m\n\u001B[32m    730\u001B[39m \u001B[38;5;28mself\u001B[39m.max_group_width = max_group_width\n\u001B[32m    731\u001B[39m \u001B[38;5;28mself\u001B[39m.max_group_depth = max_group_depth\n\u001B[32m--> \u001B[39m\u001B[32m733\u001B[39m \u001B[38;5;28mself\u001B[39m.stack = \u001B[43mStackSummary\u001B[49m\u001B[43m.\u001B[49m\u001B[43m_extract_from_extended_frame_gen\u001B[49m\u001B[43m(\u001B[49m\n\u001B[32m    734\u001B[39m \u001B[43m    \u001B[49m\u001B[43m_walk_tb_with_full_positions\u001B[49m\u001B[43m(\u001B[49m\u001B[43mexc_traceback\u001B[49m\u001B[43m)\u001B[49m\u001B[43m,\u001B[49m\n\u001B[32m    735\u001B[39m \u001B[43m    \u001B[49m\u001B[43mlimit\u001B[49m\u001B[43m=\u001B[49m\u001B[43mlimit\u001B[49m\u001B[43m,\u001B[49m\u001B[43m \u001B[49m\u001B[43mlookup_lines\u001B[49m\u001B[43m=\u001B[49m\u001B[43mlookup_lines\u001B[49m\u001B[43m,\u001B[49m\n\u001B[32m    736\u001B[39m \u001B[43m    \u001B[49m\u001B[43mcapture_locals\u001B[49m\u001B[43m=\u001B[49m\u001B[43mcapture_locals\u001B[49m\u001B[43m)\u001B[49m\n\u001B[32m    737\u001B[39m \u001B[38;5;28mself\u001B[39m.exc_type = exc_type\n\u001B[32m    738\u001B[39m \u001B[38;5;66;03m# Capture now to permit freeing resources: only complication is in the\u001B[39;00m\n\u001B[32m    739\u001B[39m \u001B[38;5;66;03m# unofficial API _format_final_exc_line\u001B[39;00m\n",
      "\u001B[36mFile \u001B[39m\u001B[32m~\\AppData\\Local\\Programs\\Python\\Python312\\Lib\\traceback.py:438\u001B[39m, in \u001B[36mStackSummary._extract_from_extended_frame_gen\u001B[39m\u001B[34m(klass, frame_gen, limit, lookup_lines, capture_locals)\u001B[39m\n\u001B[32m    436\u001B[39m \u001B[38;5;28;01mif\u001B[39;00m lookup_lines:\n\u001B[32m    437\u001B[39m     \u001B[38;5;28;01mfor\u001B[39;00m f \u001B[38;5;129;01min\u001B[39;00m result:\n\u001B[32m--> \u001B[39m\u001B[32m438\u001B[39m         \u001B[43mf\u001B[49m\u001B[43m.\u001B[49m\u001B[43mline\u001B[49m\n\u001B[32m    439\u001B[39m \u001B[38;5;28;01mreturn\u001B[39;00m result\n",
      "\u001B[36mFile \u001B[39m\u001B[32m~\\AppData\\Local\\Programs\\Python\\Python312\\Lib\\traceback.py:323\u001B[39m, in \u001B[36mFrameSummary.line\u001B[39m\u001B[34m(self)\u001B[39m\n\u001B[32m    321\u001B[39m     \u001B[38;5;28;01mif\u001B[39;00m \u001B[38;5;28mself\u001B[39m.lineno \u001B[38;5;129;01mis\u001B[39;00m \u001B[38;5;28;01mNone\u001B[39;00m:\n\u001B[32m    322\u001B[39m         \u001B[38;5;28;01mreturn\u001B[39;00m \u001B[38;5;28;01mNone\u001B[39;00m\n\u001B[32m--> \u001B[39m\u001B[32m323\u001B[39m     \u001B[38;5;28mself\u001B[39m._line = \u001B[43mlinecache\u001B[49m\u001B[43m.\u001B[49m\u001B[43mgetline\u001B[49m\u001B[43m(\u001B[49m\u001B[38;5;28;43mself\u001B[39;49m\u001B[43m.\u001B[49m\u001B[43mfilename\u001B[49m\u001B[43m,\u001B[49m\u001B[43m \u001B[49m\u001B[38;5;28;43mself\u001B[39;49m\u001B[43m.\u001B[49m\u001B[43mlineno\u001B[49m\u001B[43m)\u001B[49m\n\u001B[32m    324\u001B[39m \u001B[38;5;28;01mreturn\u001B[39;00m \u001B[38;5;28mself\u001B[39m._line.strip()\n",
      "\u001B[36mFile \u001B[39m\u001B[32m~\\AppData\\Local\\Programs\\Python\\Python312\\Lib\\linecache.py:30\u001B[39m, in \u001B[36mgetline\u001B[39m\u001B[34m(filename, lineno, module_globals)\u001B[39m\n\u001B[32m     26\u001B[39m \u001B[38;5;28;01mdef\u001B[39;00m\u001B[38;5;250m \u001B[39m\u001B[34mgetline\u001B[39m(filename, lineno, module_globals=\u001B[38;5;28;01mNone\u001B[39;00m):\n\u001B[32m     27\u001B[39m \u001B[38;5;250m    \u001B[39m\u001B[33;03m\"\"\"Get a line for a Python source file from the cache.\u001B[39;00m\n\u001B[32m     28\u001B[39m \u001B[33;03m    Update the cache if it doesn't contain an entry for this file already.\"\"\"\u001B[39;00m\n\u001B[32m---> \u001B[39m\u001B[32m30\u001B[39m     lines = \u001B[43mgetlines\u001B[49m\u001B[43m(\u001B[49m\u001B[43mfilename\u001B[49m\u001B[43m,\u001B[49m\u001B[43m \u001B[49m\u001B[43mmodule_globals\u001B[49m\u001B[43m)\u001B[49m\n\u001B[32m     31\u001B[39m     \u001B[38;5;28;01mif\u001B[39;00m \u001B[32m1\u001B[39m <= lineno <= \u001B[38;5;28mlen\u001B[39m(lines):\n\u001B[32m     32\u001B[39m         \u001B[38;5;28;01mreturn\u001B[39;00m lines[lineno - \u001B[32m1\u001B[39m]\n",
      "\u001B[36mFile \u001B[39m\u001B[32m~\\AppData\\Local\\Programs\\Python\\Python312\\Lib\\linecache.py:46\u001B[39m, in \u001B[36mgetlines\u001B[39m\u001B[34m(filename, module_globals)\u001B[39m\n\u001B[32m     43\u001B[39m         \u001B[38;5;28;01mreturn\u001B[39;00m cache[filename][\u001B[32m2\u001B[39m]\n\u001B[32m     45\u001B[39m \u001B[38;5;28;01mtry\u001B[39;00m:\n\u001B[32m---> \u001B[39m\u001B[32m46\u001B[39m     \u001B[38;5;28;01mreturn\u001B[39;00m \u001B[43mupdatecache\u001B[49m\u001B[43m(\u001B[49m\u001B[43mfilename\u001B[49m\u001B[43m,\u001B[49m\u001B[43m \u001B[49m\u001B[43mmodule_globals\u001B[49m\u001B[43m)\u001B[49m\n\u001B[32m     47\u001B[39m \u001B[38;5;28;01mexcept\u001B[39;00m \u001B[38;5;167;01mMemoryError\u001B[39;00m:\n\u001B[32m     48\u001B[39m     clearcache()\n",
      "\u001B[36mFile \u001B[39m\u001B[32m~\\AppData\\Local\\Programs\\Python\\Python312\\Lib\\linecache.py:138\u001B[39m, in \u001B[36mupdatecache\u001B[39m\u001B[34m(filename, module_globals)\u001B[39m\n\u001B[32m    136\u001B[39m     \u001B[38;5;28;01mreturn\u001B[39;00m []\n\u001B[32m    137\u001B[39m \u001B[38;5;28;01mtry\u001B[39;00m:\n\u001B[32m--> \u001B[39m\u001B[32m138\u001B[39m     \u001B[38;5;28;01mwith\u001B[39;00m \u001B[43mtokenize\u001B[49m\u001B[43m.\u001B[49m\u001B[43mopen\u001B[49m\u001B[43m(\u001B[49m\u001B[43mfullname\u001B[49m\u001B[43m)\u001B[49m \u001B[38;5;28;01mas\u001B[39;00m fp:\n\u001B[32m    139\u001B[39m         lines = fp.readlines()\n\u001B[32m    140\u001B[39m \u001B[38;5;28;01mexcept\u001B[39;00m (\u001B[38;5;167;01mOSError\u001B[39;00m, \u001B[38;5;167;01mUnicodeDecodeError\u001B[39;00m, \u001B[38;5;167;01mSyntaxError\u001B[39;00m):\n",
      "\u001B[36mFile \u001B[39m\u001B[32m~\\AppData\\Local\\Programs\\Python\\Python312\\Lib\\tokenize.py:449\u001B[39m, in \u001B[36mopen\u001B[39m\u001B[34m(filename)\u001B[39m\n\u001B[32m    445\u001B[39m \u001B[38;5;28;01mdef\u001B[39;00m\u001B[38;5;250m \u001B[39m\u001B[34mopen\u001B[39m(filename):\n\u001B[32m    446\u001B[39m \u001B[38;5;250m    \u001B[39m\u001B[33;03m\"\"\"Open a file in read only mode using the encoding detected by\u001B[39;00m\n\u001B[32m    447\u001B[39m \u001B[33;03m    detect_encoding().\u001B[39;00m\n\u001B[32m    448\u001B[39m \u001B[33;03m    \"\"\"\u001B[39;00m\n\u001B[32m--> \u001B[39m\u001B[32m449\u001B[39m     buffer = \u001B[43m_builtin_open\u001B[49m\u001B[43m(\u001B[49m\u001B[43mfilename\u001B[49m\u001B[43m,\u001B[49m\u001B[43m \u001B[49m\u001B[33;43m'\u001B[39;49m\u001B[33;43mrb\u001B[39;49m\u001B[33;43m'\u001B[39;49m\u001B[43m)\u001B[49m\n\u001B[32m    450\u001B[39m     \u001B[38;5;28;01mtry\u001B[39;00m:\n\u001B[32m    451\u001B[39m         encoding, lines = detect_encoding(buffer.readline)\n",
      "\u001B[31mKeyboardInterrupt\u001B[39m: "
     ]
    }
   ],
   "execution_count": 6
  },
  {
   "cell_type": "markdown",
   "metadata": {},
   "source": [
    "## 3) Inspect outputs"
   ],
   "id": "58979a6e4442da8"
  },
  {
   "cell_type": "code",
   "metadata": {},
   "source": [
    "for p in sorted(out_dir.glob('*')):\n",
    "    print(p.name)"
   ],
   "execution_count": null,
   "outputs": [],
   "id": "379750bdf53fb38b"
  }
 ],
 "metadata": {
  "kernelspec": {
   "display_name": "Python 3",
   "language": "python",
   "name": "python3"
  },
  "language_info": {
   "codemirror_mode": {
    "name": "ipython",
    "version": 3
   },
   "file_extension": ".py",
   "mimetype": "text/x-python",
   "name": "python",
   "nbconvert_exporter": "python",
   "pygments_lexer": "ipython3",
   "version": "3"
  }
 },
 "nbformat": 4,
 "nbformat_minor": 5
}
